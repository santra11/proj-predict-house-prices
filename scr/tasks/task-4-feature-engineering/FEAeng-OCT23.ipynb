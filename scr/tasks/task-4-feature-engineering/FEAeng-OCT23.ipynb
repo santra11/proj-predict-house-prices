{
 "cells": [
  {
   "cell_type": "markdown",
   "id": "26ee31b1",
   "metadata": {},
   "source": [
    "# Feature Engineering"
   ]
  },
  {
   "cell_type": "code",
   "execution_count": 1,
   "id": "50bd485c",
   "metadata": {},
   "outputs": [],
   "source": [
    "#importing Required Libraries\n",
    "import pandas as pd\n",
    "import numpy as np\n",
    "import matplotlib.pyplot as plt\n",
    "import seaborn as sns\n",
    "\n",
    "import warnings\n",
    "warnings.filterwarnings('ignore')\n",
    "from scipy.stats import f_oneway"
   ]
  },
  {
   "cell_type": "code",
   "execution_count": 2,
   "id": "af397d0b",
   "metadata": {
    "scrolled": false
   },
   "outputs": [
    {
     "data": {
      "text/html": [
       "<div>\n",
       "<style scoped>\n",
       "    .dataframe tbody tr th:only-of-type {\n",
       "        vertical-align: middle;\n",
       "    }\n",
       "\n",
       "    .dataframe tbody tr th {\n",
       "        vertical-align: top;\n",
       "    }\n",
       "\n",
       "    .dataframe thead th {\n",
       "        text-align: right;\n",
       "    }\n",
       "</style>\n",
       "<table border=\"1\" class=\"dataframe\">\n",
       "  <thead>\n",
       "    <tr style=\"text-align: right;\">\n",
       "      <th></th>\n",
       "      <th>namCategory</th>\n",
       "      <th>namCondominium</th>\n",
       "      <th>namDistrict</th>\n",
       "      <th>namStreet</th>\n",
       "      <th>namSubCategory</th>\n",
       "      <th>prop_char_1</th>\n",
       "      <th>prop_char_2</th>\n",
       "      <th>prop_char_5</th>\n",
       "      <th>prop_char_176</th>\n",
       "      <th>prop_char_12</th>\n",
       "      <th>totalRooms</th>\n",
       "      <th>valSales</th>\n",
       "      <th>idtProperty</th>\n",
       "      <th>latitude</th>\n",
       "      <th>totalAccess</th>\n",
       "      <th>flgHighlight</th>\n",
       "      <th>idtExternal</th>\n",
       "      <th>valMonthIptu</th>\n",
       "      <th>valCondominium</th>\n",
       "      <th>prop_char_95</th>\n",
       "    </tr>\n",
       "  </thead>\n",
       "  <tbody>\n",
       "    <tr>\n",
       "      <th>0</th>\n",
       "      <td>Casas</td>\n",
       "      <td>spazio mont royal</td>\n",
       "      <td>núcleo residencial silvio vilari</td>\n",
       "      <td>rua vivaldo lanzoni</td>\n",
       "      <td>Padrão</td>\n",
       "      <td>237.0</td>\n",
       "      <td>250.0</td>\n",
       "      <td>4.0</td>\n",
       "      <td>2.0</td>\n",
       "      <td>2.0</td>\n",
       "      <td>6.0</td>\n",
       "      <td>585000.0</td>\n",
       "      <td>66771</td>\n",
       "      <td>-22.026810</td>\n",
       "      <td>4</td>\n",
       "      <td>0</td>\n",
       "      <td>17045.0</td>\n",
       "      <td>0.0</td>\n",
       "      <td>0.0</td>\n",
       "      <td>47.81</td>\n",
       "    </tr>\n",
       "    <tr>\n",
       "      <th>1</th>\n",
       "      <td>Casas</td>\n",
       "      <td>condomínio village damha iv</td>\n",
       "      <td>village damha iv</td>\n",
       "      <td>avenida brasilino damha</td>\n",
       "      <td>Padrão</td>\n",
       "      <td>180.0</td>\n",
       "      <td>299.0</td>\n",
       "      <td>3.0</td>\n",
       "      <td>4.0</td>\n",
       "      <td>2.0</td>\n",
       "      <td>6.0</td>\n",
       "      <td>1150000.0</td>\n",
       "      <td>66762</td>\n",
       "      <td>-21.975280</td>\n",
       "      <td>10</td>\n",
       "      <td>0</td>\n",
       "      <td>17045.0</td>\n",
       "      <td>0.0</td>\n",
       "      <td>0.0</td>\n",
       "      <td>47.81</td>\n",
       "    </tr>\n",
       "    <tr>\n",
       "      <th>2</th>\n",
       "      <td>Terreno</td>\n",
       "      <td>spazio mont royal</td>\n",
       "      <td>vila são josé</td>\n",
       "      <td>rua hipólito josé da costa</td>\n",
       "      <td>Lote</td>\n",
       "      <td>147.8</td>\n",
       "      <td>125.0</td>\n",
       "      <td>2.0</td>\n",
       "      <td>2.0</td>\n",
       "      <td>1.0</td>\n",
       "      <td>3.0</td>\n",
       "      <td>150000.0</td>\n",
       "      <td>66761</td>\n",
       "      <td>-22.002180</td>\n",
       "      <td>3</td>\n",
       "      <td>0</td>\n",
       "      <td>17045.0</td>\n",
       "      <td>0.0</td>\n",
       "      <td>0.0</td>\n",
       "      <td>47.81</td>\n",
       "    </tr>\n",
       "    <tr>\n",
       "      <th>3</th>\n",
       "      <td>Apartamentos</td>\n",
       "      <td>edifício mont d'oro</td>\n",
       "      <td>residencial monsenhor romeu tortorelli</td>\n",
       "      <td>avenida joão stella</td>\n",
       "      <td>Padrão</td>\n",
       "      <td>147.8</td>\n",
       "      <td>42.0</td>\n",
       "      <td>2.0</td>\n",
       "      <td>1.0</td>\n",
       "      <td>1.0</td>\n",
       "      <td>2.0</td>\n",
       "      <td>180000.0</td>\n",
       "      <td>66758</td>\n",
       "      <td>-22.010408</td>\n",
       "      <td>23</td>\n",
       "      <td>1</td>\n",
       "      <td>17045.0</td>\n",
       "      <td>0.0</td>\n",
       "      <td>233.0</td>\n",
       "      <td>42.00</td>\n",
       "    </tr>\n",
       "    <tr>\n",
       "      <th>4</th>\n",
       "      <td>Casas</td>\n",
       "      <td>spazio mont royal</td>\n",
       "      <td>jardim tangará</td>\n",
       "      <td>rua ilton resitano</td>\n",
       "      <td>Padrão</td>\n",
       "      <td>111.0</td>\n",
       "      <td>125.0</td>\n",
       "      <td>2.0</td>\n",
       "      <td>2.0</td>\n",
       "      <td>2.0</td>\n",
       "      <td>3.0</td>\n",
       "      <td>290000.0</td>\n",
       "      <td>66756</td>\n",
       "      <td>-22.010460</td>\n",
       "      <td>23</td>\n",
       "      <td>1</td>\n",
       "      <td>17045.0</td>\n",
       "      <td>0.0</td>\n",
       "      <td>0.0</td>\n",
       "      <td>47.81</td>\n",
       "    </tr>\n",
       "  </tbody>\n",
       "</table>\n",
       "</div>"
      ],
      "text/plain": [
       "    namCategory               namCondominium  \\\n",
       "0         Casas            spazio mont royal   \n",
       "1         Casas  condomínio village damha iv   \n",
       "2       Terreno            spazio mont royal   \n",
       "3  Apartamentos          edifício mont d'oro   \n",
       "4         Casas            spazio mont royal   \n",
       "\n",
       "                              namDistrict                   namStreet  \\\n",
       "0        núcleo residencial silvio vilari         rua vivaldo lanzoni   \n",
       "1                        village damha iv     avenida brasilino damha   \n",
       "2                           vila são josé  rua hipólito josé da costa   \n",
       "3  residencial monsenhor romeu tortorelli         avenida joão stella   \n",
       "4                          jardim tangará          rua ilton resitano   \n",
       "\n",
       "  namSubCategory  prop_char_1  prop_char_2  prop_char_5  prop_char_176  \\\n",
       "0         Padrão        237.0        250.0          4.0            2.0   \n",
       "1         Padrão        180.0        299.0          3.0            4.0   \n",
       "2           Lote        147.8        125.0          2.0            2.0   \n",
       "3         Padrão        147.8         42.0          2.0            1.0   \n",
       "4         Padrão        111.0        125.0          2.0            2.0   \n",
       "\n",
       "   prop_char_12  totalRooms   valSales  idtProperty   latitude  totalAccess  \\\n",
       "0           2.0         6.0   585000.0        66771 -22.026810            4   \n",
       "1           2.0         6.0  1150000.0        66762 -21.975280           10   \n",
       "2           1.0         3.0   150000.0        66761 -22.002180            3   \n",
       "3           1.0         2.0   180000.0        66758 -22.010408           23   \n",
       "4           2.0         3.0   290000.0        66756 -22.010460           23   \n",
       "\n",
       "   flgHighlight  idtExternal  valMonthIptu  valCondominium  prop_char_95  \n",
       "0             0      17045.0           0.0             0.0         47.81  \n",
       "1             0      17045.0           0.0             0.0         47.81  \n",
       "2             0      17045.0           0.0             0.0         47.81  \n",
       "3             1      17045.0           0.0           233.0         42.00  \n",
       "4             1      17045.0           0.0             0.0         47.81  "
      ]
     },
     "execution_count": 2,
     "metadata": {},
     "output_type": "execute_result"
    }
   ],
   "source": [
    "df=pd.read_csv('sale_saocarlos.csv')\n",
    "df.head()"
   ]
  },
  {
   "cell_type": "code",
   "execution_count": 3,
   "id": "7332ef86",
   "metadata": {},
   "outputs": [
    {
     "data": {
      "text/plain": [
       "(6548, 20)"
      ]
     },
     "execution_count": 3,
     "metadata": {},
     "output_type": "execute_result"
    }
   ],
   "source": [
    "#shape\n",
    "df.shape"
   ]
  },
  {
   "cell_type": "code",
   "execution_count": 4,
   "id": "e0c3a351",
   "metadata": {},
   "outputs": [
    {
     "name": "stdout",
     "output_type": "stream",
     "text": [
      "<class 'pandas.core.frame.DataFrame'>\n",
      "RangeIndex: 6548 entries, 0 to 6547\n",
      "Data columns (total 20 columns):\n",
      " #   Column          Non-Null Count  Dtype  \n",
      "---  ------          --------------  -----  \n",
      " 0   namCategory     6548 non-null   object \n",
      " 1   namCondominium  6548 non-null   object \n",
      " 2   namDistrict     6548 non-null   object \n",
      " 3   namStreet       6548 non-null   object \n",
      " 4   namSubCategory  6548 non-null   object \n",
      " 5   prop_char_1     6548 non-null   float64\n",
      " 6   prop_char_2     6548 non-null   float64\n",
      " 7   prop_char_5     6548 non-null   float64\n",
      " 8   prop_char_176   6548 non-null   float64\n",
      " 9   prop_char_12    6548 non-null   float64\n",
      " 10  totalRooms      6548 non-null   float64\n",
      " 11  valSales        6548 non-null   float64\n",
      " 12  idtProperty     6548 non-null   int64  \n",
      " 13  latitude        6548 non-null   float64\n",
      " 14  totalAccess     6548 non-null   int64  \n",
      " 15  flgHighlight    6548 non-null   int64  \n",
      " 16  idtExternal     6548 non-null   float64\n",
      " 17  valMonthIptu    6548 non-null   float64\n",
      " 18  valCondominium  6548 non-null   float64\n",
      " 19  prop_char_95    6548 non-null   float64\n",
      "dtypes: float64(12), int64(3), object(5)\n",
      "memory usage: 1023.2+ KB\n"
     ]
    }
   ],
   "source": [
    "df.info()"
   ]
  },
  {
   "cell_type": "markdown",
   "id": "21be5cef",
   "metadata": {},
   "source": [
    "### Duplicated Value"
   ]
  },
  {
   "cell_type": "code",
   "execution_count": 5,
   "id": "dcf6f82a",
   "metadata": {},
   "outputs": [
    {
     "data": {
      "text/plain": [
       "0"
      ]
     },
     "execution_count": 5,
     "metadata": {},
     "output_type": "execute_result"
    }
   ],
   "source": [
    "df.duplicated().sum()"
   ]
  },
  {
   "cell_type": "code",
   "execution_count": 6,
   "id": "a123949e",
   "metadata": {},
   "outputs": [
    {
     "data": {
      "text/plain": [
       "(6548, 20)"
      ]
     },
     "execution_count": 6,
     "metadata": {},
     "output_type": "execute_result"
    }
   ],
   "source": [
    "df.shape"
   ]
  },
  {
   "cell_type": "markdown",
   "id": "02478133",
   "metadata": {},
   "source": [
    "### Checking Null values"
   ]
  },
  {
   "cell_type": "code",
   "execution_count": 7,
   "id": "5c9ee0db",
   "metadata": {},
   "outputs": [
    {
     "data": {
      "text/plain": [
       "namCategory       0\n",
       "namCondominium    0\n",
       "namDistrict       0\n",
       "namStreet         0\n",
       "namSubCategory    0\n",
       "prop_char_1       0\n",
       "prop_char_2       0\n",
       "prop_char_5       0\n",
       "prop_char_176     0\n",
       "prop_char_12      0\n",
       "totalRooms        0\n",
       "valSales          0\n",
       "idtProperty       0\n",
       "latitude          0\n",
       "totalAccess       0\n",
       "flgHighlight      0\n",
       "idtExternal       0\n",
       "valMonthIptu      0\n",
       "valCondominium    0\n",
       "prop_char_95      0\n",
       "dtype: int64"
      ]
     },
     "execution_count": 7,
     "metadata": {},
     "output_type": "execute_result"
    }
   ],
   "source": [
    "df.isna().sum()"
   ]
  },
  {
   "cell_type": "markdown",
   "id": "3ab55222",
   "metadata": {},
   "source": [
    "### RENAMING COLUMNS"
   ]
  },
  {
   "cell_type": "code",
   "execution_count": 8,
   "id": "08b46b5b",
   "metadata": {
    "scrolled": false
   },
   "outputs": [
    {
     "data": {
      "text/plain": [
       "Index(['namCategory', 'namCondominium', 'namDistrict', 'namStreet',\n",
       "       'namSubCategory', 'prop_char_1', 'prop_char_2', 'prop_char_5',\n",
       "       'prop_char_176', 'prop_char_12', 'totalRooms', 'valSales',\n",
       "       'idtProperty', 'latitude', 'totalAccess', 'flgHighlight', 'idtExternal',\n",
       "       'valMonthIptu', 'valCondominium', 'prop_char_95'],\n",
       "      dtype='object')"
      ]
     },
     "execution_count": 8,
     "metadata": {},
     "output_type": "execute_result"
    }
   ],
   "source": [
    "df.columns"
   ]
  },
  {
   "cell_type": "code",
   "execution_count": 9,
   "id": "fb3bb44e",
   "metadata": {},
   "outputs": [],
   "source": [
    "df.rename(columns={'namCategory':'Category',\n",
    "                   'namCondominium':'Condominium',\n",
    "                   'namDistrict':'District',\n",
    "                   'namStreet':'Street_name',\n",
    "                  'namSubCategory':'Subcategory','prop_char_1':'Built_up_area',\n",
    "                  'prop_char_2':'Total_area',\n",
    "                  'prop_char_5':'Bedroom',\n",
    "                  'prop_char_176':'Bathroom',\n",
    "                  'prop_char_12':'Garages',\n",
    "                  'valSales':'Sales_value',\n",
    "                  'idtProperty':'PropertyId',\n",
    "                  'idtExternal':'ExternalId',\n",
    "                  'valMonthIptu':'Property_tax'},inplace=True)"
   ]
  },
  {
   "cell_type": "code",
   "execution_count": 10,
   "id": "f0d2b65b",
   "metadata": {
    "scrolled": true
   },
   "outputs": [
    {
     "data": {
      "text/html": [
       "<div>\n",
       "<style scoped>\n",
       "    .dataframe tbody tr th:only-of-type {\n",
       "        vertical-align: middle;\n",
       "    }\n",
       "\n",
       "    .dataframe tbody tr th {\n",
       "        vertical-align: top;\n",
       "    }\n",
       "\n",
       "    .dataframe thead th {\n",
       "        text-align: right;\n",
       "    }\n",
       "</style>\n",
       "<table border=\"1\" class=\"dataframe\">\n",
       "  <thead>\n",
       "    <tr style=\"text-align: right;\">\n",
       "      <th></th>\n",
       "      <th>Category</th>\n",
       "      <th>Condominium</th>\n",
       "      <th>District</th>\n",
       "      <th>Street_name</th>\n",
       "      <th>Subcategory</th>\n",
       "      <th>Built_up_area</th>\n",
       "      <th>Total_area</th>\n",
       "      <th>Bedroom</th>\n",
       "      <th>Bathroom</th>\n",
       "      <th>Garages</th>\n",
       "      <th>totalRooms</th>\n",
       "      <th>Sales_value</th>\n",
       "      <th>PropertyId</th>\n",
       "      <th>latitude</th>\n",
       "      <th>totalAccess</th>\n",
       "      <th>flgHighlight</th>\n",
       "      <th>ExternalId</th>\n",
       "      <th>Property_tax</th>\n",
       "      <th>valCondominium</th>\n",
       "      <th>prop_char_95</th>\n",
       "    </tr>\n",
       "  </thead>\n",
       "  <tbody>\n",
       "    <tr>\n",
       "      <th>0</th>\n",
       "      <td>Casas</td>\n",
       "      <td>spazio mont royal</td>\n",
       "      <td>núcleo residencial silvio vilari</td>\n",
       "      <td>rua vivaldo lanzoni</td>\n",
       "      <td>Padrão</td>\n",
       "      <td>237.0</td>\n",
       "      <td>250.0</td>\n",
       "      <td>4.0</td>\n",
       "      <td>2.0</td>\n",
       "      <td>2.0</td>\n",
       "      <td>6.0</td>\n",
       "      <td>585000.0</td>\n",
       "      <td>66771</td>\n",
       "      <td>-22.026810</td>\n",
       "      <td>4</td>\n",
       "      <td>0</td>\n",
       "      <td>17045.0</td>\n",
       "      <td>0.0</td>\n",
       "      <td>0.0</td>\n",
       "      <td>47.81</td>\n",
       "    </tr>\n",
       "    <tr>\n",
       "      <th>1</th>\n",
       "      <td>Casas</td>\n",
       "      <td>condomínio village damha iv</td>\n",
       "      <td>village damha iv</td>\n",
       "      <td>avenida brasilino damha</td>\n",
       "      <td>Padrão</td>\n",
       "      <td>180.0</td>\n",
       "      <td>299.0</td>\n",
       "      <td>3.0</td>\n",
       "      <td>4.0</td>\n",
       "      <td>2.0</td>\n",
       "      <td>6.0</td>\n",
       "      <td>1150000.0</td>\n",
       "      <td>66762</td>\n",
       "      <td>-21.975280</td>\n",
       "      <td>10</td>\n",
       "      <td>0</td>\n",
       "      <td>17045.0</td>\n",
       "      <td>0.0</td>\n",
       "      <td>0.0</td>\n",
       "      <td>47.81</td>\n",
       "    </tr>\n",
       "    <tr>\n",
       "      <th>2</th>\n",
       "      <td>Terreno</td>\n",
       "      <td>spazio mont royal</td>\n",
       "      <td>vila são josé</td>\n",
       "      <td>rua hipólito josé da costa</td>\n",
       "      <td>Lote</td>\n",
       "      <td>147.8</td>\n",
       "      <td>125.0</td>\n",
       "      <td>2.0</td>\n",
       "      <td>2.0</td>\n",
       "      <td>1.0</td>\n",
       "      <td>3.0</td>\n",
       "      <td>150000.0</td>\n",
       "      <td>66761</td>\n",
       "      <td>-22.002180</td>\n",
       "      <td>3</td>\n",
       "      <td>0</td>\n",
       "      <td>17045.0</td>\n",
       "      <td>0.0</td>\n",
       "      <td>0.0</td>\n",
       "      <td>47.81</td>\n",
       "    </tr>\n",
       "    <tr>\n",
       "      <th>3</th>\n",
       "      <td>Apartamentos</td>\n",
       "      <td>edifício mont d'oro</td>\n",
       "      <td>residencial monsenhor romeu tortorelli</td>\n",
       "      <td>avenida joão stella</td>\n",
       "      <td>Padrão</td>\n",
       "      <td>147.8</td>\n",
       "      <td>42.0</td>\n",
       "      <td>2.0</td>\n",
       "      <td>1.0</td>\n",
       "      <td>1.0</td>\n",
       "      <td>2.0</td>\n",
       "      <td>180000.0</td>\n",
       "      <td>66758</td>\n",
       "      <td>-22.010408</td>\n",
       "      <td>23</td>\n",
       "      <td>1</td>\n",
       "      <td>17045.0</td>\n",
       "      <td>0.0</td>\n",
       "      <td>233.0</td>\n",
       "      <td>42.00</td>\n",
       "    </tr>\n",
       "    <tr>\n",
       "      <th>4</th>\n",
       "      <td>Casas</td>\n",
       "      <td>spazio mont royal</td>\n",
       "      <td>jardim tangará</td>\n",
       "      <td>rua ilton resitano</td>\n",
       "      <td>Padrão</td>\n",
       "      <td>111.0</td>\n",
       "      <td>125.0</td>\n",
       "      <td>2.0</td>\n",
       "      <td>2.0</td>\n",
       "      <td>2.0</td>\n",
       "      <td>3.0</td>\n",
       "      <td>290000.0</td>\n",
       "      <td>66756</td>\n",
       "      <td>-22.010460</td>\n",
       "      <td>23</td>\n",
       "      <td>1</td>\n",
       "      <td>17045.0</td>\n",
       "      <td>0.0</td>\n",
       "      <td>0.0</td>\n",
       "      <td>47.81</td>\n",
       "    </tr>\n",
       "  </tbody>\n",
       "</table>\n",
       "</div>"
      ],
      "text/plain": [
       "       Category                  Condominium  \\\n",
       "0         Casas            spazio mont royal   \n",
       "1         Casas  condomínio village damha iv   \n",
       "2       Terreno            spazio mont royal   \n",
       "3  Apartamentos          edifício mont d'oro   \n",
       "4         Casas            spazio mont royal   \n",
       "\n",
       "                                 District                 Street_name  \\\n",
       "0        núcleo residencial silvio vilari         rua vivaldo lanzoni   \n",
       "1                        village damha iv     avenida brasilino damha   \n",
       "2                           vila são josé  rua hipólito josé da costa   \n",
       "3  residencial monsenhor romeu tortorelli         avenida joão stella   \n",
       "4                          jardim tangará          rua ilton resitano   \n",
       "\n",
       "  Subcategory  Built_up_area  Total_area  Bedroom  Bathroom  Garages  \\\n",
       "0      Padrão          237.0       250.0      4.0       2.0      2.0   \n",
       "1      Padrão          180.0       299.0      3.0       4.0      2.0   \n",
       "2        Lote          147.8       125.0      2.0       2.0      1.0   \n",
       "3      Padrão          147.8        42.0      2.0       1.0      1.0   \n",
       "4      Padrão          111.0       125.0      2.0       2.0      2.0   \n",
       "\n",
       "   totalRooms  Sales_value  PropertyId   latitude  totalAccess  flgHighlight  \\\n",
       "0         6.0     585000.0       66771 -22.026810            4             0   \n",
       "1         6.0    1150000.0       66762 -21.975280           10             0   \n",
       "2         3.0     150000.0       66761 -22.002180            3             0   \n",
       "3         2.0     180000.0       66758 -22.010408           23             1   \n",
       "4         3.0     290000.0       66756 -22.010460           23             1   \n",
       "\n",
       "   ExternalId  Property_tax  valCondominium  prop_char_95  \n",
       "0     17045.0           0.0             0.0         47.81  \n",
       "1     17045.0           0.0             0.0         47.81  \n",
       "2     17045.0           0.0             0.0         47.81  \n",
       "3     17045.0           0.0           233.0         42.00  \n",
       "4     17045.0           0.0             0.0         47.81  "
      ]
     },
     "execution_count": 10,
     "metadata": {},
     "output_type": "execute_result"
    }
   ],
   "source": [
    "df.head()"
   ]
  },
  {
   "cell_type": "markdown",
   "id": "19ac82d9",
   "metadata": {},
   "source": [
    "### DROPPING COLUMNS"
   ]
  },
  {
   "cell_type": "markdown",
   "id": "ff3f17da",
   "metadata": {},
   "source": [
    "Dropping columsn which can easily does not contribute for prediction"
   ]
  },
  {
   "cell_type": "code",
   "execution_count": 11,
   "id": "1f67d96f",
   "metadata": {},
   "outputs": [
    {
     "data": {
      "text/plain": [
       "Index(['Category', 'Condominium', 'District', 'Street_name', 'Subcategory',\n",
       "       'Built_up_area', 'Total_area', 'Bedroom', 'Bathroom', 'Garages',\n",
       "       'totalRooms', 'Sales_value', 'PropertyId', 'latitude', 'totalAccess',\n",
       "       'flgHighlight', 'ExternalId', 'Property_tax', 'valCondominium',\n",
       "       'prop_char_95'],\n",
       "      dtype='object')"
      ]
     },
     "execution_count": 11,
     "metadata": {},
     "output_type": "execute_result"
    }
   ],
   "source": [
    "df.columns"
   ]
  },
  {
   "cell_type": "code",
   "execution_count": 12,
   "id": "e6fb33f9",
   "metadata": {},
   "outputs": [],
   "source": [
    "df=df.drop(columns=['PropertyId','PropertyId','flgHighlight','ExternalId','latitude'])"
   ]
  },
  {
   "cell_type": "code",
   "execution_count": 13,
   "id": "adf43c02",
   "metadata": {
    "scrolled": true
   },
   "outputs": [
    {
     "data": {
      "text/html": [
       "<div>\n",
       "<style scoped>\n",
       "    .dataframe tbody tr th:only-of-type {\n",
       "        vertical-align: middle;\n",
       "    }\n",
       "\n",
       "    .dataframe tbody tr th {\n",
       "        vertical-align: top;\n",
       "    }\n",
       "\n",
       "    .dataframe thead th {\n",
       "        text-align: right;\n",
       "    }\n",
       "</style>\n",
       "<table border=\"1\" class=\"dataframe\">\n",
       "  <thead>\n",
       "    <tr style=\"text-align: right;\">\n",
       "      <th></th>\n",
       "      <th>Category</th>\n",
       "      <th>Condominium</th>\n",
       "      <th>District</th>\n",
       "      <th>Street_name</th>\n",
       "      <th>Subcategory</th>\n",
       "      <th>Built_up_area</th>\n",
       "      <th>Total_area</th>\n",
       "      <th>Bedroom</th>\n",
       "      <th>Bathroom</th>\n",
       "      <th>Garages</th>\n",
       "      <th>totalRooms</th>\n",
       "      <th>Sales_value</th>\n",
       "      <th>totalAccess</th>\n",
       "      <th>Property_tax</th>\n",
       "      <th>valCondominium</th>\n",
       "      <th>prop_char_95</th>\n",
       "    </tr>\n",
       "  </thead>\n",
       "  <tbody>\n",
       "    <tr>\n",
       "      <th>0</th>\n",
       "      <td>Casas</td>\n",
       "      <td>spazio mont royal</td>\n",
       "      <td>núcleo residencial silvio vilari</td>\n",
       "      <td>rua vivaldo lanzoni</td>\n",
       "      <td>Padrão</td>\n",
       "      <td>237.0</td>\n",
       "      <td>250.0</td>\n",
       "      <td>4.0</td>\n",
       "      <td>2.0</td>\n",
       "      <td>2.0</td>\n",
       "      <td>6.0</td>\n",
       "      <td>585000.0</td>\n",
       "      <td>4</td>\n",
       "      <td>0.0</td>\n",
       "      <td>0.0</td>\n",
       "      <td>47.81</td>\n",
       "    </tr>\n",
       "    <tr>\n",
       "      <th>1</th>\n",
       "      <td>Casas</td>\n",
       "      <td>condomínio village damha iv</td>\n",
       "      <td>village damha iv</td>\n",
       "      <td>avenida brasilino damha</td>\n",
       "      <td>Padrão</td>\n",
       "      <td>180.0</td>\n",
       "      <td>299.0</td>\n",
       "      <td>3.0</td>\n",
       "      <td>4.0</td>\n",
       "      <td>2.0</td>\n",
       "      <td>6.0</td>\n",
       "      <td>1150000.0</td>\n",
       "      <td>10</td>\n",
       "      <td>0.0</td>\n",
       "      <td>0.0</td>\n",
       "      <td>47.81</td>\n",
       "    </tr>\n",
       "    <tr>\n",
       "      <th>2</th>\n",
       "      <td>Terreno</td>\n",
       "      <td>spazio mont royal</td>\n",
       "      <td>vila são josé</td>\n",
       "      <td>rua hipólito josé da costa</td>\n",
       "      <td>Lote</td>\n",
       "      <td>147.8</td>\n",
       "      <td>125.0</td>\n",
       "      <td>2.0</td>\n",
       "      <td>2.0</td>\n",
       "      <td>1.0</td>\n",
       "      <td>3.0</td>\n",
       "      <td>150000.0</td>\n",
       "      <td>3</td>\n",
       "      <td>0.0</td>\n",
       "      <td>0.0</td>\n",
       "      <td>47.81</td>\n",
       "    </tr>\n",
       "  </tbody>\n",
       "</table>\n",
       "</div>"
      ],
      "text/plain": [
       "  Category                  Condominium                          District  \\\n",
       "0    Casas            spazio mont royal  núcleo residencial silvio vilari   \n",
       "1    Casas  condomínio village damha iv                  village damha iv   \n",
       "2  Terreno            spazio mont royal                     vila são josé   \n",
       "\n",
       "                  Street_name Subcategory  Built_up_area  Total_area  Bedroom  \\\n",
       "0         rua vivaldo lanzoni      Padrão          237.0       250.0      4.0   \n",
       "1     avenida brasilino damha      Padrão          180.0       299.0      3.0   \n",
       "2  rua hipólito josé da costa        Lote          147.8       125.0      2.0   \n",
       "\n",
       "   Bathroom  Garages  totalRooms  Sales_value  totalAccess  Property_tax  \\\n",
       "0       2.0      2.0         6.0     585000.0            4           0.0   \n",
       "1       4.0      2.0         6.0    1150000.0           10           0.0   \n",
       "2       2.0      1.0         3.0     150000.0            3           0.0   \n",
       "\n",
       "   valCondominium  prop_char_95  \n",
       "0             0.0         47.81  \n",
       "1             0.0         47.81  \n",
       "2             0.0         47.81  "
      ]
     },
     "execution_count": 13,
     "metadata": {},
     "output_type": "execute_result"
    }
   ],
   "source": [
    "df.head(3)"
   ]
  },
  {
   "cell_type": "code",
   "execution_count": 14,
   "id": "49119c30",
   "metadata": {},
   "outputs": [
    {
     "data": {
      "text/plain": [
       "(6548, 16)"
      ]
     },
     "execution_count": 14,
     "metadata": {},
     "output_type": "execute_result"
    }
   ],
   "source": [
    "df.shape"
   ]
  },
  {
   "cell_type": "markdown",
   "id": "f821224a",
   "metadata": {},
   "source": [
    "###  HANDLING OUTLIERS"
   ]
  },
  {
   "cell_type": "code",
   "execution_count": 15,
   "id": "e5b218cb",
   "metadata": {
    "scrolled": false
   },
   "outputs": [
    {
     "data": {
      "text/plain": [
       "['Built_up_area',\n",
       " 'Total_area',\n",
       " 'Bedroom',\n",
       " 'Bathroom',\n",
       " 'Garages',\n",
       " 'totalRooms',\n",
       " 'Sales_value',\n",
       " 'totalAccess',\n",
       " 'Property_tax',\n",
       " 'valCondominium',\n",
       " 'prop_char_95']"
      ]
     },
     "execution_count": 15,
     "metadata": {},
     "output_type": "execute_result"
    }
   ],
   "source": [
    "cols=df.columns\n",
    "num_cols=[]\n",
    "\n",
    "for i in cols:\n",
    "    if df[i].dtype!='O':\n",
    "        num_cols.append(i)\n",
    "num_cols"
   ]
  },
  {
   "cell_type": "markdown",
   "id": "9f3bbb00",
   "metadata": {},
   "source": [
    "CHECKING BOXPLOT AND KDE DISTRIBUTION BEFORE OUTLIER HANDLING"
   ]
  },
  {
   "cell_type": "code",
   "execution_count": 16,
   "id": "c3464863",
   "metadata": {},
   "outputs": [
    {
     "data": {
      "image/png": "[encoded data removed]",
      "text/plain": [
       "<Figure size 288x216 with 1 Axes>"
      ]
     },
     "metadata": {
      "needs_background": "light"
     },
     "output_type": "display_data"
    },
    {
     "data": {
      "image/png": "[encoded data removed]",
      "text/plain": [
       "<Figure size 288x216 with 1 Axes>"
      ]
     },
     "metadata": {
      "needs_background": "light"
     },
     "output_type": "display_data"
    },
    {
     "data": {
      "image/png": "[encoded data removed]",
      "text/plain": [
       "<Figure size 288x216 with 1 Axes>"
      ]
     },
     "metadata": {
      "needs_background": "light"
     },
     "output_type": "display_data"
    },
    {
     "data": {
      "image/png": "[encoded data removed]",
      "text/plain": [
       "<Figure size 288x216 with 1 Axes>"
      ]
     },
     "metadata": {
      "needs_background": "light"
     },
     "output_type": "display_data"
    },
    {
     "data": {
      "image/png": "[encoded data removed]",
      "text/plain": [
       "<Figure size 288x216 with 1 Axes>"
      ]
     },
     "metadata": {
      "needs_background": "light"
     },
     "output_type": "display_data"
    },
    {
     "data": {
      "image/png": "[encoded data removed]",
      "text/plain": [
       "<Figure size 288x216 with 1 Axes>"
      ]
     },
     "metadata": {
      "needs_background": "light"
     },
     "output_type": "display_data"
    },
    {
     "data": {
      "image/png": "[encoded data removed]",
      "text/plain": [
       "<Figure size 288x216 with 1 Axes>"
      ]
     },
     "metadata": {
      "needs_background": "light"
     },
     "output_type": "display_data"
    },
    {
     "data": {
      "image/png": "[encoded data removed]",
      "text/plain": [
       "<Figure size 288x216 with 1 Axes>"
      ]
     },
     "metadata": {
      "needs_background": "light"
     },
     "output_type": "display_data"
    },
    {
     "data": {
      "image/png": "[encoded data removed]",
      "text/plain": [
       "<Figure size 288x216 with 1 Axes>"
      ]
     },
     "metadata": {
      "needs_background": "light"
     },
     "output_type": "display_data"
    },
    {
     "data": {
      "image/png": "[encoded data removed]",
      "text/plain": [
       "<Figure size 288x216 with 1 Axes>"
      ]
     },
     "metadata": {
      "needs_background": "light"
     },
     "output_type": "display_data"
    },
    {
     "data": {
      "image/png": "[encoded data removed]",
      "text/plain": [
       "<Figure size 288x216 with 1 Axes>"
      ]
     },
     "metadata": {
      "needs_background": "light"
     },
     "output_type": "display_data"
    }
   ],
   "source": [
    "for i in num_cols:\n",
    "    plt.figure(figsize=(4,3))\n",
    "    sns.boxplot(df[i])\n",
    "    plt.title(i)\n",
    "plt.show()"
   ]
  },
  {
   "cell_type": "code",
   "execution_count": 17,
   "id": "ed0321cf",
   "metadata": {
    "scrolled": true
   },
   "outputs": [
    {
     "data": {
      "image/png": "[encoded data removed]",
      "text/plain": [
       "<Figure size 288x216 with 1 Axes>"
      ]
     },
     "metadata": {
      "needs_background": "light"
     },
     "output_type": "display_data"
    },
    {
     "data": {
      "image/png": "[encoded data removed]",
      "text/plain": [
       "<Figure size 288x216 with 1 Axes>"
      ]
     },
     "metadata": {
      "needs_background": "light"
     },
     "output_type": "display_data"
    },
    {
     "data": {
      "image/png": "[encoded data removed]",
      "text/plain": [
       "<Figure size 288x216 with 1 Axes>"
      ]
     },
     "metadata": {
      "needs_background": "light"
     },
     "output_type": "display_data"
    },
    {
     "data": {
      "image/png": "[encoded data removed]",
      "text/plain": [
       "<Figure size 288x216 with 1 Axes>"
      ]
     },
     "metadata": {
      "needs_background": "light"
     },
     "output_type": "display_data"
    },
    {
     "data": {
      "image/png": "[encoded data removed]",
      "text/plain": [
       "<Figure size 288x216 with 1 Axes>"
      ]
     },
     "metadata": {
      "needs_background": "light"
     },
     "output_type": "display_data"
    },
    {
     "data": {
      "image/png": "[encoded data removed]",
      "text/plain": [
       "<Figure size 288x216 with 1 Axes>"
      ]
     },
     "metadata": {
      "needs_background": "light"
     },
     "output_type": "display_data"
    },
    {
     "data": {
      "image/png": "[encoded data removed]",
      "text/plain": [
       "<Figure size 288x216 with 1 Axes>"
      ]
     },
     "metadata": {
      "needs_background": "light"
     },
     "output_type": "display_data"
    },
    {
     "data": {
      "image/png": "[encoded data removed]",
      "text/plain": [
       "<Figure size 288x216 with 1 Axes>"
      ]
     },
     "metadata": {
      "needs_background": "light"
     },
     "output_type": "display_data"
    },
    {
     "data": {
      "image/png": "[encoded data removed]",
      "text/plain": [
       "<Figure size 288x216 with 1 Axes>"
      ]
     },
     "metadata": {
      "needs_background": "light"
     },
     "output_type": "display_data"
    },
    {
     "data": {
      "image/png": "[encoded data removed]",
      "text/plain": [
       "<Figure size 288x216 with 1 Axes>"
      ]
     },
     "metadata": {
      "needs_background": "light"
     },
     "output_type": "display_data"
    },
    {
     "data": {
      "image/png": "[encoded data removed]",
      "text/plain": [
       "<Figure size 288x216 with 1 Axes>"
      ]
     },
     "metadata": {
      "needs_background": "light"
     },
     "output_type": "display_data"
    }
   ],
   "source": [
    "for i in num_cols:\n",
    "    plt.figure(figsize=(4,3))\n",
    "    sns.kdeplot(df[i])\n",
    "    plt.title(i)\n",
    "plt.show()"
   ]
  },
  {
   "cell_type": "markdown",
   "id": "e5a1fca4",
   "metadata": {},
   "source": [
    "### CAPPING"
   ]
  },
  {
   "cell_type": "code",
   "execution_count": 18,
   "id": "3c656385",
   "metadata": {},
   "outputs": [],
   "source": [
    "for i in num_cols:\n",
    "    UL=df[i].quantile(0.95)\n",
    "    LL=df[i].quantile(0.05)\n",
    "    df[i]=np.where(df[i]>=UL,UL,np.where(df[i]<=LL,LL,df[i]))"
   ]
  },
  {
   "cell_type": "code",
   "execution_count": 19,
   "id": "280d94b3",
   "metadata": {
    "scrolled": false
   },
   "outputs": [
    {
     "data": {
      "image/png": "[encoded data removed]",
      "text/plain": [
       "<Figure size 288x216 with 1 Axes>"
      ]
     },
     "metadata": {
      "needs_background": "light"
     },
     "output_type": "display_data"
    },
    {
     "data": {
      "image/png": "[encoded data removed]",
      "text/plain": [
       "<Figure size 288x216 with 1 Axes>"
      ]
     },
     "metadata": {
      "needs_background": "light"
     },
     "output_type": "display_data"
    },
    {
     "data": {
      "image/png": "[encoded data removed]",
      "text/plain": [
       "<Figure size 288x216 with 1 Axes>"
      ]
     },
     "metadata": {
      "needs_background": "light"
     },
     "output_type": "display_data"
    },
    {
     "data": {
      "image/png": "[encoded data removed]",
      "text/plain": [
       "<Figure size 288x216 with 1 Axes>"
      ]
     },
     "metadata": {
      "needs_background": "light"
     },
     "output_type": "display_data"
    },
    {
     "data": {
      "image/png": "[encoded data removed]",
      "text/plain": [
       "<Figure size 288x216 with 1 Axes>"
      ]
     },
     "metadata": {
      "needs_background": "light"
     },
     "output_type": "display_data"
    },
    {
     "data": {
      "image/png": "[encoded data removed]",
      "text/plain": [
       "<Figure size 288x216 with 1 Axes>"
      ]
     },
     "metadata": {
      "needs_background": "light"
     },
     "output_type": "display_data"
    },
    {
     "data": {
      "image/png": "[encoded data removed]",
      "text/plain": [
       "<Figure size 288x216 with 1 Axes>"
      ]
     },
     "metadata": {
      "needs_background": "light"
     },
     "output_type": "display_data"
    },
    {
     "data": {
      "image/png": "[encoded data removed]",
      "text/plain": [
       "<Figure size 288x216 with 1 Axes>"
      ]
     },
     "metadata": {
      "needs_background": "light"
     },
     "output_type": "display_data"
    },
    {
     "data": {
      "image/png": "[encoded data removed]",
      "text/plain": [
       "<Figure size 288x216 with 1 Axes>"
      ]
     },
     "metadata": {
      "needs_background": "light"
     },
     "output_type": "display_data"
    },
    {
     "data": {
      "image/png": "[encoded data removed]",
      "text/plain": [
       "<Figure size 288x216 with 1 Axes>"
      ]
     },
     "metadata": {
      "needs_background": "light"
     },
     "output_type": "display_data"
    },
    {
     "data": {
      "image/png": "[encoded data removed]",
      "text/plain": [
       "<Figure size 288x216 with 1 Axes>"
      ]
     },
     "metadata": {
      "needs_background": "light"
     },
     "output_type": "display_data"
    }
   ],
   "source": [
    "for i in num_cols:\n",
    "    plt.figure(figsize=(4,3))\n",
    "    sns.boxplot(df[i])\n",
    "    plt.title(i)\n",
    "plt.show()"
   ]
  },
  {
   "cell_type": "code",
   "execution_count": 20,
   "id": "1a904f15",
   "metadata": {
    "scrolled": true
   },
   "outputs": [
    {
     "data": {
      "image/png": "[encoded data removed]",
      "text/plain": [
       "<Figure size 288x216 with 1 Axes>"
      ]
     },
     "metadata": {
      "needs_background": "light"
     },
     "output_type": "display_data"
    },
    {
     "data": {
      "image/png": "[encoded data removed]",
      "text/plain": [
       "<Figure size 288x216 with 1 Axes>"
      ]
     },
     "metadata": {
      "needs_background": "light"
     },
     "output_type": "display_data"
    },
    {
     "data": {
      "image/png": "[encoded data removed]",
      "text/plain": [
       "<Figure size 288x216 with 1 Axes>"
      ]
     },
     "metadata": {
      "needs_background": "light"
     },
     "output_type": "display_data"
    },
    {
     "data": {
      "image/png": "[encoded data removed]",
      "text/plain": [
       "<Figure size 288x216 with 1 Axes>"
      ]
     },
     "metadata": {
      "needs_background": "light"
     },
     "output_type": "display_data"
    },
    {
     "data": {
      "image/png": "[encoded data removed]",
      "text/plain": [
       "<Figure size 288x216 with 1 Axes>"
      ]
     },
     "metadata": {
      "needs_background": "light"
     },
     "output_type": "display_data"
    },
    {
     "data": {
      "image/png": "[encoded data removed]",
      "text/plain": [
       "<Figure size 288x216 with 1 Axes>"
      ]
     },
     "metadata": {
      "needs_background": "light"
     },
     "output_type": "display_data"
    },
    {
     "data": {
      "image/png": "[encoded data removed]",
      "text/plain": [
       "<Figure size 288x216 with 1 Axes>"
      ]
     },
     "metadata": {
      "needs_background": "light"
     },
     "output_type": "display_data"
    },
    {
     "data": {
      "image/png": "[encoded data removed]",
      "text/plain": [
       "<Figure size 288x216 with 1 Axes>"
      ]
     },
     "metadata": {
      "needs_background": "light"
     },
     "output_type": "display_data"
    },
    {
     "data": {
      "image/png": "[encoded data removed]",
      "text/plain": [
       "<Figure size 288x216 with 1 Axes>"
      ]
     },
     "metadata": {
      "needs_background": "light"
     },
     "output_type": "display_data"
    },
    {
     "data": {
      "image/png": "[encoded data removed]",
      "text/plain": [
       "<Figure size 288x216 with 1 Axes>"
      ]
     },
     "metadata": {
      "needs_background": "light"
     },
     "output_type": "display_data"
    },
    {
     "data": {
      "image/png": "[encoded data removed]",
      "text/plain": [
       "<Figure size 288x216 with 1 Axes>"
      ]
     },
     "metadata": {
      "needs_background": "light"
     },
     "output_type": "display_data"
    }
   ],
   "source": [
    "for i in num_cols:\n",
    "    plt.figure(figsize=(4,3))\n",
    "    sns.kdeplot(df[i])\n",
    "    plt.title(i)\n",
    "plt.show()"
   ]
  },
  {
   "cell_type": "markdown",
   "id": "49a01eb2",
   "metadata": {},
   "source": [
    "Although we have still outliers but the distribution has been handled in comparison to previous distribution"
   ]
  },
  {
   "cell_type": "markdown",
   "id": "88e03ca2",
   "metadata": {},
   "source": [
    "## Feature Selection"
   ]
  },
  {
   "cell_type": "markdown",
   "id": "704d5819",
   "metadata": {},
   "source": [
    "In this we will Select best features for the Prediction.Selection is made based on visualizing and statistical strength analysis."
   ]
  },
  {
   "cell_type": "markdown",
   "id": "78d068cb",
   "metadata": {},
   "source": [
    "### A-visualizing features\n",
    "* continous vs continous - scatter plot\n",
    "* categorical vs continous - Box plot\n",
    "* categorical and categoirical - grouped bar charts"
   ]
  },
  {
   "cell_type": "markdown",
   "id": "8680e0a2",
   "metadata": {},
   "source": [
    "### B-Statistical Measurement\n",
    "* continous vs continous - core-lation matrix\n",
    "* continous vs categorical- Anova\n",
    "* categorical vs categorical -Chi square of independence"
   ]
  },
  {
   "cell_type": "markdown",
   "id": "e0a0196e",
   "metadata": {},
   "source": [
    "### In our case\n",
    "* Continous target variable vs contnuous predictor variable\n",
    "* Continous target variable vs caegroical predictor variabe;"
   ]
  },
  {
   "cell_type": "markdown",
   "id": "0d51ec4d",
   "metadata": {},
   "source": [
    "#### Continous target variable vs continous predictor variable"
   ]
  },
  {
   "cell_type": "code",
   "execution_count": 21,
   "id": "86002972",
   "metadata": {},
   "outputs": [],
   "source": [
    "cols\n",
    "num_col=['Built_up_area','Total_area', 'Bedroom', 'Bathroom', 'Garages','totalRooms', 'totalAccess','Property_tax','valCondominium', 'prop_char_95']"
   ]
  },
  {
   "cell_type": "code",
   "execution_count": 22,
   "id": "187b1a0e",
   "metadata": {
    "scrolled": true
   },
   "outputs": [
    {
     "data": {
      "text/plain": [
       "['Built_up_area',\n",
       " 'Total_area',\n",
       " 'Bedroom',\n",
       " 'Bathroom',\n",
       " 'Garages',\n",
       " 'totalRooms',\n",
       " 'Sales_value',\n",
       " 'totalAccess',\n",
       " 'Property_tax',\n",
       " 'valCondominium',\n",
       " 'prop_char_95']"
      ]
     },
     "execution_count": 22,
     "metadata": {},
     "output_type": "execute_result"
    }
   ],
   "source": [
    "num_cols"
   ]
  },
  {
   "cell_type": "code",
   "execution_count": 23,
   "id": "c3fb7561",
   "metadata": {
    "scrolled": false
   },
   "outputs": [],
   "source": [
    "#for i in num_cols:\n",
    "#    plt.figure(figsize=(4,4))\n",
    "#    sns.scatterplot(data=df,x=i,y='Sales_value')\n",
    "#plt.show()"
   ]
  },
  {
   "cell_type": "markdown",
   "id": "62545990",
   "metadata": {},
   "source": [
    "#### Statistical strength "
   ]
  },
  {
   "cell_type": "code",
   "execution_count": 24,
   "id": "baca8023",
   "metadata": {
    "scrolled": true
   },
   "outputs": [
    {
     "data": {
      "text/html": [
       "<div>\n",
       "<style scoped>\n",
       "    .dataframe tbody tr th:only-of-type {\n",
       "        vertical-align: middle;\n",
       "    }\n",
       "\n",
       "    .dataframe tbody tr th {\n",
       "        vertical-align: top;\n",
       "    }\n",
       "\n",
       "    .dataframe thead th {\n",
       "        text-align: right;\n",
       "    }\n",
       "</style>\n",
       "<table border=\"1\" class=\"dataframe\">\n",
       "  <thead>\n",
       "    <tr style=\"text-align: right;\">\n",
       "      <th></th>\n",
       "      <th>Built_up_area</th>\n",
       "      <th>Total_area</th>\n",
       "      <th>Bedroom</th>\n",
       "      <th>Bathroom</th>\n",
       "      <th>Garages</th>\n",
       "      <th>totalRooms</th>\n",
       "      <th>Sales_value</th>\n",
       "      <th>totalAccess</th>\n",
       "      <th>Property_tax</th>\n",
       "      <th>valCondominium</th>\n",
       "      <th>prop_char_95</th>\n",
       "    </tr>\n",
       "  </thead>\n",
       "  <tbody>\n",
       "    <tr>\n",
       "      <th>Built_up_area</th>\n",
       "      <td>1.000000</td>\n",
       "      <td>0.373780</td>\n",
       "      <td>0.463710</td>\n",
       "      <td>0.446698</td>\n",
       "      <td>0.284501</td>\n",
       "      <td>0.484536</td>\n",
       "      <td>0.471730</td>\n",
       "      <td>-0.024468</td>\n",
       "      <td>0.137777</td>\n",
       "      <td>0.019543</td>\n",
       "      <td>0.028965</td>\n",
       "    </tr>\n",
       "    <tr>\n",
       "      <th>Total_area</th>\n",
       "      <td>0.373780</td>\n",
       "      <td>1.000000</td>\n",
       "      <td>0.262602</td>\n",
       "      <td>0.367357</td>\n",
       "      <td>0.256018</td>\n",
       "      <td>0.345264</td>\n",
       "      <td>0.610663</td>\n",
       "      <td>-0.008918</td>\n",
       "      <td>0.068879</td>\n",
       "      <td>-0.195618</td>\n",
       "      <td>-0.058328</td>\n",
       "    </tr>\n",
       "    <tr>\n",
       "      <th>Bedroom</th>\n",
       "      <td>0.463710</td>\n",
       "      <td>0.262602</td>\n",
       "      <td>1.000000</td>\n",
       "      <td>0.592071</td>\n",
       "      <td>0.403814</td>\n",
       "      <td>0.871410</td>\n",
       "      <td>0.433544</td>\n",
       "      <td>0.059099</td>\n",
       "      <td>0.174984</td>\n",
       "      <td>-0.001394</td>\n",
       "      <td>0.110020</td>\n",
       "    </tr>\n",
       "    <tr>\n",
       "      <th>Bathroom</th>\n",
       "      <td>0.446698</td>\n",
       "      <td>0.367357</td>\n",
       "      <td>0.592071</td>\n",
       "      <td>1.000000</td>\n",
       "      <td>0.342242</td>\n",
       "      <td>0.799915</td>\n",
       "      <td>0.525503</td>\n",
       "      <td>0.015086</td>\n",
       "      <td>0.171485</td>\n",
       "      <td>-0.008705</td>\n",
       "      <td>0.140907</td>\n",
       "    </tr>\n",
       "    <tr>\n",
       "      <th>Garages</th>\n",
       "      <td>0.284501</td>\n",
       "      <td>0.256018</td>\n",
       "      <td>0.403814</td>\n",
       "      <td>0.342242</td>\n",
       "      <td>1.000000</td>\n",
       "      <td>0.419400</td>\n",
       "      <td>0.363689</td>\n",
       "      <td>-0.251919</td>\n",
       "      <td>0.095634</td>\n",
       "      <td>0.021054</td>\n",
       "      <td>0.266269</td>\n",
       "    </tr>\n",
       "    <tr>\n",
       "      <th>totalRooms</th>\n",
       "      <td>0.484536</td>\n",
       "      <td>0.345264</td>\n",
       "      <td>0.871410</td>\n",
       "      <td>0.799915</td>\n",
       "      <td>0.419400</td>\n",
       "      <td>1.000000</td>\n",
       "      <td>0.533738</td>\n",
       "      <td>0.001418</td>\n",
       "      <td>0.170322</td>\n",
       "      <td>0.019719</td>\n",
       "      <td>0.177256</td>\n",
       "    </tr>\n",
       "    <tr>\n",
       "      <th>Sales_value</th>\n",
       "      <td>0.471730</td>\n",
       "      <td>0.610663</td>\n",
       "      <td>0.433544</td>\n",
       "      <td>0.525503</td>\n",
       "      <td>0.363689</td>\n",
       "      <td>0.533738</td>\n",
       "      <td>1.000000</td>\n",
       "      <td>-0.052183</td>\n",
       "      <td>0.180217</td>\n",
       "      <td>0.043428</td>\n",
       "      <td>0.128689</td>\n",
       "    </tr>\n",
       "    <tr>\n",
       "      <th>totalAccess</th>\n",
       "      <td>-0.024468</td>\n",
       "      <td>-0.008918</td>\n",
       "      <td>0.059099</td>\n",
       "      <td>0.015086</td>\n",
       "      <td>-0.251919</td>\n",
       "      <td>0.001418</td>\n",
       "      <td>-0.052183</td>\n",
       "      <td>1.000000</td>\n",
       "      <td>0.077894</td>\n",
       "      <td>-0.144990</td>\n",
       "      <td>-0.447783</td>\n",
       "    </tr>\n",
       "    <tr>\n",
       "      <th>Property_tax</th>\n",
       "      <td>0.137777</td>\n",
       "      <td>0.068879</td>\n",
       "      <td>0.174984</td>\n",
       "      <td>0.171485</td>\n",
       "      <td>0.095634</td>\n",
       "      <td>0.170322</td>\n",
       "      <td>0.180217</td>\n",
       "      <td>0.077894</td>\n",
       "      <td>1.000000</td>\n",
       "      <td>0.204381</td>\n",
       "      <td>0.108470</td>\n",
       "    </tr>\n",
       "    <tr>\n",
       "      <th>valCondominium</th>\n",
       "      <td>0.019543</td>\n",
       "      <td>-0.195618</td>\n",
       "      <td>-0.001394</td>\n",
       "      <td>-0.008705</td>\n",
       "      <td>0.021054</td>\n",
       "      <td>0.019719</td>\n",
       "      <td>0.043428</td>\n",
       "      <td>-0.144990</td>\n",
       "      <td>0.204381</td>\n",
       "      <td>1.000000</td>\n",
       "      <td>0.289606</td>\n",
       "    </tr>\n",
       "    <tr>\n",
       "      <th>prop_char_95</th>\n",
       "      <td>0.028965</td>\n",
       "      <td>-0.058328</td>\n",
       "      <td>0.110020</td>\n",
       "      <td>0.140907</td>\n",
       "      <td>0.266269</td>\n",
       "      <td>0.177256</td>\n",
       "      <td>0.128689</td>\n",
       "      <td>-0.447783</td>\n",
       "      <td>0.108470</td>\n",
       "      <td>0.289606</td>\n",
       "      <td>1.000000</td>\n",
       "    </tr>\n",
       "  </tbody>\n",
       "</table>\n",
       "</div>"
      ],
      "text/plain": [
       "                Built_up_area  Total_area   Bedroom  Bathroom   Garages  \\\n",
       "Built_up_area        1.000000    0.373780  0.463710  0.446698  0.284501   \n",
       "Total_area           0.373780    1.000000  0.262602  0.367357  0.256018   \n",
       "Bedroom              0.463710    0.262602  1.000000  0.592071  0.403814   \n",
       "Bathroom             0.446698    0.367357  0.592071  1.000000  0.342242   \n",
       "Garages              0.284501    0.256018  0.403814  0.342242  1.000000   \n",
       "totalRooms           0.484536    0.345264  0.871410  0.799915  0.419400   \n",
       "Sales_value          0.471730    0.610663  0.433544  0.525503  0.363689   \n",
       "totalAccess         -0.024468   -0.008918  0.059099  0.015086 -0.251919   \n",
       "Property_tax         0.137777    0.068879  0.174984  0.171485  0.095634   \n",
       "valCondominium       0.019543   -0.195618 -0.001394 -0.008705  0.021054   \n",
       "prop_char_95         0.028965   -0.058328  0.110020  0.140907  0.266269   \n",
       "\n",
       "                totalRooms  Sales_value  totalAccess  Property_tax  \\\n",
       "Built_up_area     0.484536     0.471730    -0.024468      0.137777   \n",
       "Total_area        0.345264     0.610663    -0.008918      0.068879   \n",
       "Bedroom           0.871410     0.433544     0.059099      0.174984   \n",
       "Bathroom          0.799915     0.525503     0.015086      0.171485   \n",
       "Garages           0.419400     0.363689    -0.251919      0.095634   \n",
       "totalRooms        1.000000     0.533738     0.001418      0.170322   \n",
       "Sales_value       0.533738     1.000000    -0.052183      0.180217   \n",
       "totalAccess       0.001418    -0.052183     1.000000      0.077894   \n",
       "Property_tax      0.170322     0.180217     0.077894      1.000000   \n",
       "valCondominium    0.019719     0.043428    -0.144990      0.204381   \n",
       "prop_char_95      0.177256     0.128689    -0.447783      0.108470   \n",
       "\n",
       "                valCondominium  prop_char_95  \n",
       "Built_up_area         0.019543      0.028965  \n",
       "Total_area           -0.195618     -0.058328  \n",
       "Bedroom              -0.001394      0.110020  \n",
       "Bathroom             -0.008705      0.140907  \n",
       "Garages               0.021054      0.266269  \n",
       "totalRooms            0.019719      0.177256  \n",
       "Sales_value           0.043428      0.128689  \n",
       "totalAccess          -0.144990     -0.447783  \n",
       "Property_tax          0.204381      0.108470  \n",
       "valCondominium        1.000000      0.289606  \n",
       "prop_char_95          0.289606      1.000000  "
      ]
     },
     "execution_count": 24,
     "metadata": {},
     "output_type": "execute_result"
    }
   ],
   "source": [
    "df.corr()"
   ]
  },
  {
   "cell_type": "code",
   "execution_count": 25,
   "id": "fe73a612",
   "metadata": {
    "scrolled": true
   },
   "outputs": [
    {
     "data": {
      "image/png": "[encoded data removed]",
      "text/plain": [
       "<Figure size 576x504 with 2 Axes>"
      ]
     },
     "metadata": {
      "needs_background": "light"
     },
     "output_type": "display_data"
    }
   ],
   "source": [
    "plt.figure(figsize=(8,7))\n",
    "sns.heatmap(df.corr(),annot=True)\n",
    "plt.show()"
   ]
  },
  {
   "cell_type": "markdown",
   "id": "c8414a25",
   "metadata": {},
   "source": [
    "#### Observation\n",
    "* from above scatterplot and corelation matrix we found that there is a less co-relation between \n",
    "* Hence ,Dropping Total access,property tax and val condominium."
   ]
  },
  {
   "cell_type": "code",
   "execution_count": 26,
   "id": "9453512a",
   "metadata": {
    "scrolled": false
   },
   "outputs": [],
   "source": [
    "df.drop(columns=[ 'totalAccess','Property_tax','valCondominium'],inplace=True)"
   ]
  },
  {
   "cell_type": "code",
   "execution_count": 27,
   "id": "e5e73226",
   "metadata": {
    "scrolled": true
   },
   "outputs": [
    {
     "data": {
      "text/html": [
       "<div>\n",
       "<style scoped>\n",
       "    .dataframe tbody tr th:only-of-type {\n",
       "        vertical-align: middle;\n",
       "    }\n",
       "\n",
       "    .dataframe tbody tr th {\n",
       "        vertical-align: top;\n",
       "    }\n",
       "\n",
       "    .dataframe thead th {\n",
       "        text-align: right;\n",
       "    }\n",
       "</style>\n",
       "<table border=\"1\" class=\"dataframe\">\n",
       "  <thead>\n",
       "    <tr style=\"text-align: right;\">\n",
       "      <th></th>\n",
       "      <th>Category</th>\n",
       "      <th>Condominium</th>\n",
       "      <th>District</th>\n",
       "      <th>Street_name</th>\n",
       "      <th>Subcategory</th>\n",
       "      <th>Built_up_area</th>\n",
       "      <th>Total_area</th>\n",
       "      <th>Bedroom</th>\n",
       "      <th>Bathroom</th>\n",
       "      <th>Garages</th>\n",
       "      <th>totalRooms</th>\n",
       "      <th>Sales_value</th>\n",
       "      <th>prop_char_95</th>\n",
       "    </tr>\n",
       "  </thead>\n",
       "  <tbody>\n",
       "    <tr>\n",
       "      <th>0</th>\n",
       "      <td>Casas</td>\n",
       "      <td>spazio mont royal</td>\n",
       "      <td>núcleo residencial silvio vilari</td>\n",
       "      <td>rua vivaldo lanzoni</td>\n",
       "      <td>Padrão</td>\n",
       "      <td>237.0</td>\n",
       "      <td>250.0</td>\n",
       "      <td>4.0</td>\n",
       "      <td>2.0</td>\n",
       "      <td>2.0</td>\n",
       "      <td>6.0</td>\n",
       "      <td>585000.0</td>\n",
       "      <td>47.81</td>\n",
       "    </tr>\n",
       "    <tr>\n",
       "      <th>1</th>\n",
       "      <td>Casas</td>\n",
       "      <td>condomínio village damha iv</td>\n",
       "      <td>village damha iv</td>\n",
       "      <td>avenida brasilino damha</td>\n",
       "      <td>Padrão</td>\n",
       "      <td>180.0</td>\n",
       "      <td>299.0</td>\n",
       "      <td>3.0</td>\n",
       "      <td>4.0</td>\n",
       "      <td>2.0</td>\n",
       "      <td>6.0</td>\n",
       "      <td>1150000.0</td>\n",
       "      <td>47.81</td>\n",
       "    </tr>\n",
       "  </tbody>\n",
       "</table>\n",
       "</div>"
      ],
      "text/plain": [
       "  Category                  Condominium                          District  \\\n",
       "0    Casas            spazio mont royal  núcleo residencial silvio vilari   \n",
       "1    Casas  condomínio village damha iv                  village damha iv   \n",
       "\n",
       "               Street_name Subcategory  Built_up_area  Total_area  Bedroom  \\\n",
       "0      rua vivaldo lanzoni      Padrão          237.0       250.0      4.0   \n",
       "1  avenida brasilino damha      Padrão          180.0       299.0      3.0   \n",
       "\n",
       "   Bathroom  Garages  totalRooms  Sales_value  prop_char_95  \n",
       "0       2.0      2.0         6.0     585000.0         47.81  \n",
       "1       4.0      2.0         6.0    1150000.0         47.81  "
      ]
     },
     "execution_count": 27,
     "metadata": {},
     "output_type": "execute_result"
    }
   ],
   "source": [
    "df.head(2)"
   ]
  },
  {
   "cell_type": "code",
   "execution_count": 28,
   "id": "94f1a779",
   "metadata": {},
   "outputs": [
    {
     "data": {
      "text/plain": [
       "(6548, 13)"
      ]
     },
     "execution_count": 28,
     "metadata": {},
     "output_type": "execute_result"
    }
   ],
   "source": [
    "df.shape"
   ]
  },
  {
   "cell_type": "markdown",
   "id": "753c1db4",
   "metadata": {},
   "source": [
    "## Continous target variable vs categorical predictor variable"
   ]
  },
  {
   "cell_type": "markdown",
   "id": "ee083631",
   "metadata": {},
   "source": [
    "#### Category columns"
   ]
  },
  {
   "cell_type": "code",
   "execution_count": 29,
   "id": "0e47a82b",
   "metadata": {
    "scrolled": false
   },
   "outputs": [
    {
     "data": {
      "text/plain": [
       "Casas           3008\n",
       "Apartamentos    2016\n",
       "Terreno         1127\n",
       "Comercial        238\n",
       "Rural            156\n",
       "Industrial         3\n",
       "Name: Category, dtype: int64"
      ]
     },
     "execution_count": 29,
     "metadata": {},
     "output_type": "execute_result"
    }
   ],
   "source": [
    "df['Category'].value_counts()"
   ]
  },
  {
   "cell_type": "code",
   "execution_count": 30,
   "id": "888f731f",
   "metadata": {
    "scrolled": true
   },
   "outputs": [
    {
     "data": {
      "image/png": "[encoded data removed]",
      "text/plain": [
       "<Figure size 432x288 with 1 Axes>"
      ]
     },
     "metadata": {
      "needs_background": "light"
     },
     "output_type": "display_data"
    }
   ],
   "source": [
    "sns.boxplot(data=df , x='Category' , y='Sales_value')\n",
    "plt.xticks(rotation=60)\n",
    "plt.show()"
   ]
  },
  {
   "cell_type": "markdown",
   "id": "6cc2022d",
   "metadata": {},
   "source": [
    "#### Subcategory column"
   ]
  },
  {
   "cell_type": "code",
   "execution_count": 31,
   "id": "4c26475d",
   "metadata": {
    "scrolled": true
   },
   "outputs": [
    {
     "data": {
      "text/plain": [
       "Padrão                   73.213195\n",
       "Condomínio               10.491753\n",
       "Sobrado                   2.580941\n",
       "Lote                      1.802077\n",
       "Comercial                 1.771533\n",
       "Chácara                   1.542456\n",
       "Residencial               1.175932\n",
       "Kitnet                    0.962126\n",
       "Salão                     0.885767\n",
       "Sala                      0.748320\n",
       "Galpão                    0.656689\n",
       "Barracão                  0.610874\n",
       "Área                      0.595602\n",
       "Cobertura                 0.488699\n",
       "Prédio                    0.412340\n",
       "Garagem                   0.305437\n",
       "Sítio                     0.244349\n",
       "Sobrado Condomínio        0.213806\n",
       "Chácara em condomínio     0.213806\n",
       "Duplex                    0.183262\n",
       "Loja                      0.167990\n",
       "Área de Lazer             0.137447\n",
       "Ponto                     0.122175\n",
       "Studio                    0.106903\n",
       "Edícula                   0.091631\n",
       "Fazenda                   0.076359\n",
       "Garden                    0.045816\n",
       "Pesqueiro                 0.030544\n",
       "Industrial                0.030544\n",
       "Terreno                   0.015272\n",
       "Edícula em condomínio     0.015272\n",
       "Haras                     0.015272\n",
       "Townhouse                 0.015272\n",
       "Pousada                   0.015272\n",
       "Loft                      0.015272\n",
       "Name: Subcategory, dtype: float64"
      ]
     },
     "execution_count": 31,
     "metadata": {},
     "output_type": "execute_result"
    }
   ],
   "source": [
    "df['Subcategory'].value_counts()/len(df)*100"
   ]
  },
  {
   "cell_type": "code",
   "execution_count": 32,
   "id": "ec74505e",
   "metadata": {},
   "outputs": [],
   "source": [
    "#since there are many values so to avoid sparse matrix we have to clubb the data\n",
    "subcat=pd.DataFrame(df['Subcategory'].value_counts()/len(df)*100)\n",
    "subcat.reset_index()\n",
    "\n",
    "repl_subcat=subcat[subcat.Subcategory<=10].index\n",
    "\n",
    "df['Subcategory']=df['Subcategory'].replace(repl_subcat,'Others')"
   ]
  },
  {
   "cell_type": "code",
   "execution_count": 33,
   "id": "dab0417c",
   "metadata": {
    "scrolled": false
   },
   "outputs": [
    {
     "data": {
      "text/plain": [
       "Padrão        4794\n",
       "Others        1067\n",
       "Condomínio     687\n",
       "Name: Subcategory, dtype: int64"
      ]
     },
     "execution_count": 33,
     "metadata": {},
     "output_type": "execute_result"
    }
   ],
   "source": [
    "df['Subcategory'].value_counts()"
   ]
  },
  {
   "cell_type": "code",
   "execution_count": 34,
   "id": "64f8b872",
   "metadata": {
    "scrolled": true
   },
   "outputs": [
    {
     "data": {
      "image/png": "[encoded data removed]",
      "text/plain": [
       "<Figure size 432x288 with 1 Axes>"
      ]
     },
     "metadata": {
      "needs_background": "light"
     },
     "output_type": "display_data"
    }
   ],
   "source": [
    "sns.boxplot(data=df , x='Subcategory' , y='Sales_value')\n",
    "plt.show()"
   ]
  },
  {
   "cell_type": "code",
   "execution_count": 35,
   "id": "e7ef09ee",
   "metadata": {},
   "outputs": [
    {
     "name": "stdout",
     "output_type": "stream",
     "text": [
      "461.8580239739025 2.3279115652772074e-188\n"
     ]
    }
   ],
   "source": [
    "#Anova\n",
    "#checking for ANOVA\n",
    "sub_category_=df.groupby(['Subcategory'])['Sales_value'].apply(list)\n",
    "\n",
    "f_value,p_value=f_oneway(*sub_category_)\n",
    "print(f_value,p_value)"
   ]
  },
  {
   "cell_type": "markdown",
   "id": "775f2d9c",
   "metadata": {},
   "source": [
    "Subcategory column is selected"
   ]
  },
  {
   "cell_type": "markdown",
   "id": "50bdf17a",
   "metadata": {},
   "source": [
    "## Condominium"
   ]
  },
  {
   "cell_type": "code",
   "execution_count": 36,
   "id": "22e2384a",
   "metadata": {
    "scrolled": true
   },
   "outputs": [
    {
     "data": {
      "text/plain": [
       "spazio mont royal                     3768\n",
       "condomínio recanto do sabiá             52\n",
       "residencial artemísia                   42\n",
       "condomínio mont park                    40\n",
       "residencial portal do mediterrâneo      39\n",
       "                                      ... \n",
       "edifício abrahão bagnato                 1\n",
       "edifício são conrado                     1\n",
       "edifício gadu 1                          1\n",
       "edificio irene                           1\n",
       "edifício alice honce mitre               1\n",
       "Name: Condominium, Length: 464, dtype: int64"
      ]
     },
     "execution_count": 36,
     "metadata": {},
     "output_type": "execute_result"
    }
   ],
   "source": [
    "df['Condominium'].value_counts()"
   ]
  },
  {
   "cell_type": "markdown",
   "id": "558d42bc",
   "metadata": {},
   "source": [
    "### District"
   ]
  },
  {
   "cell_type": "code",
   "execution_count": 37,
   "id": "9fe830a4",
   "metadata": {
    "scrolled": false
   },
   "outputs": [
    {
     "data": {
      "text/html": [
       "<div>\n",
       "<style scoped>\n",
       "    .dataframe tbody tr th:only-of-type {\n",
       "        vertical-align: middle;\n",
       "    }\n",
       "\n",
       "    .dataframe tbody tr th {\n",
       "        vertical-align: top;\n",
       "    }\n",
       "\n",
       "    .dataframe thead th {\n",
       "        text-align: right;\n",
       "    }\n",
       "</style>\n",
       "<table border=\"1\" class=\"dataframe\">\n",
       "  <thead>\n",
       "    <tr style=\"text-align: right;\">\n",
       "      <th></th>\n",
       "      <th>index</th>\n",
       "      <th>District</th>\n",
       "    </tr>\n",
       "  </thead>\n",
       "  <tbody>\n",
       "    <tr>\n",
       "      <th>0</th>\n",
       "      <td>centro</td>\n",
       "      <td>479</td>\n",
       "    </tr>\n",
       "    <tr>\n",
       "      <th>1</th>\n",
       "      <td>santa felicia</td>\n",
       "      <td>225</td>\n",
       "    </tr>\n",
       "    <tr>\n",
       "      <th>2</th>\n",
       "      <td>parque faber castell</td>\n",
       "      <td>210</td>\n",
       "    </tr>\n",
       "    <tr>\n",
       "      <th>3</th>\n",
       "      <td>cidade jardim</td>\n",
       "      <td>169</td>\n",
       "    </tr>\n",
       "    <tr>\n",
       "      <th>4</th>\n",
       "      <td>jardim são carlos</td>\n",
       "      <td>156</td>\n",
       "    </tr>\n",
       "    <tr>\n",
       "      <th>...</th>\n",
       "      <td>...</td>\n",
       "      <td>...</td>\n",
       "    </tr>\n",
       "    <tr>\n",
       "      <th>240</th>\n",
       "      <td>nossa senhora de fatina</td>\n",
       "      <td>1</td>\n",
       "    </tr>\n",
       "    <tr>\n",
       "      <th>241</th>\n",
       "      <td>vila max</td>\n",
       "      <td>1</td>\n",
       "    </tr>\n",
       "    <tr>\n",
       "      <th>242</th>\n",
       "      <td>residencial itatiaia</td>\n",
       "      <td>1</td>\n",
       "    </tr>\n",
       "    <tr>\n",
       "      <th>243</th>\n",
       "      <td>vila alpes</td>\n",
       "      <td>1</td>\n",
       "    </tr>\n",
       "    <tr>\n",
       "      <th>244</th>\n",
       "      <td>planalto paraiso</td>\n",
       "      <td>1</td>\n",
       "    </tr>\n",
       "  </tbody>\n",
       "</table>\n",
       "<p>245 rows × 2 columns</p>\n",
       "</div>"
      ],
      "text/plain": [
       "                       index  District\n",
       "0                     centro       479\n",
       "1              santa felicia       225\n",
       "2       parque faber castell       210\n",
       "3              cidade jardim       169\n",
       "4          jardim são carlos       156\n",
       "..                       ...       ...\n",
       "240  nossa senhora de fatina         1\n",
       "241                 vila max         1\n",
       "242     residencial itatiaia         1\n",
       "243               vila alpes         1\n",
       "244         planalto paraiso         1\n",
       "\n",
       "[245 rows x 2 columns]"
      ]
     },
     "execution_count": 37,
     "metadata": {},
     "output_type": "execute_result"
    }
   ],
   "source": [
    "dis_df=pd.DataFrame(df['District'].value_counts())\n",
    "dis_df.reset_index()"
   ]
  },
  {
   "cell_type": "code",
   "execution_count": 38,
   "id": "186d61ca",
   "metadata": {
    "scrolled": true
   },
   "outputs": [
    {
     "data": {
      "text/plain": [
       "Index(['vila prado', 'jardim ipanema', 'parque tecnológico damha',\n",
       "       'recreio são judas tadeu', 'jardim embaré', 'jardim paraíso',\n",
       "       'residencial samambaia', 'distrito industrial miguel abdelnur',\n",
       "       'jardim lutfalla', 'parque arnold schimidt',\n",
       "       ...\n",
       "       'vila sonia', 'arace de santo antonio', 'uirapuru',\n",
       "       'jardim santa helena', 'jd botafogo', 'nossa senhora de fatina',\n",
       "       'vila max', 'residencial itatiaia', 'vila alpes', 'planalto paraiso'],\n",
       "      dtype='object', length=238)"
      ]
     },
     "execution_count": 38,
     "metadata": {},
     "output_type": "execute_result"
    }
   ],
   "source": [
    "repl_dis=dis_df[dis_df.District<=150].index\n",
    "repl_dis"
   ]
  },
  {
   "cell_type": "code",
   "execution_count": 39,
   "id": "e209f06a",
   "metadata": {},
   "outputs": [
    {
     "data": {
      "text/plain": [
       "centro                     479\n",
       "santa felicia              225\n",
       "parque faber castell       210\n",
       "cidade jardim              169\n",
       "jardim são carlos          156\n",
       "                          ... \n",
       "nossa senhora de fatina      1\n",
       "vila max                     1\n",
       "residencial itatiaia         1\n",
       "vila alpes                   1\n",
       "planalto paraiso             1\n",
       "Name: District, Length: 245, dtype: int64"
      ]
     },
     "execution_count": 39,
     "metadata": {},
     "output_type": "execute_result"
    }
   ],
   "source": [
    "#df['District']=df['District'].replace(repl_dis,'Others')\n",
    "df['District'].value_counts()"
   ]
  },
  {
   "cell_type": "code",
   "execution_count": 40,
   "id": "acca3818",
   "metadata": {},
   "outputs": [
    {
     "name": "stdout",
     "output_type": "stream",
     "text": [
      "17.455960581734658 0.0\n"
     ]
    }
   ],
   "source": [
    "#Anova\n",
    "#checking for ANOVA\n",
    "dis_anova=df.groupby(['District'])['Sales_value'].apply(list)\n",
    "\n",
    "f_value,p_value=f_oneway(*dis_anova)\n",
    "print(f_value,p_value)"
   ]
  },
  {
   "cell_type": "code",
   "execution_count": 41,
   "id": "9375a797",
   "metadata": {},
   "outputs": [],
   "source": [
    "#District is selected"
   ]
  },
  {
   "cell_type": "code",
   "execution_count": 42,
   "id": "7ae6e506",
   "metadata": {
    "scrolled": false
   },
   "outputs": [
    {
     "data": {
      "text/html": [
       "<div>\n",
       "<style scoped>\n",
       "    .dataframe tbody tr th:only-of-type {\n",
       "        vertical-align: middle;\n",
       "    }\n",
       "\n",
       "    .dataframe tbody tr th {\n",
       "        vertical-align: top;\n",
       "    }\n",
       "\n",
       "    .dataframe thead th {\n",
       "        text-align: right;\n",
       "    }\n",
       "</style>\n",
       "<table border=\"1\" class=\"dataframe\">\n",
       "  <thead>\n",
       "    <tr style=\"text-align: right;\">\n",
       "      <th></th>\n",
       "      <th>Category</th>\n",
       "      <th>Condominium</th>\n",
       "      <th>District</th>\n",
       "      <th>Street_name</th>\n",
       "      <th>Subcategory</th>\n",
       "      <th>Built_up_area</th>\n",
       "      <th>Total_area</th>\n",
       "      <th>Bedroom</th>\n",
       "      <th>Bathroom</th>\n",
       "      <th>Garages</th>\n",
       "      <th>totalRooms</th>\n",
       "      <th>Sales_value</th>\n",
       "      <th>prop_char_95</th>\n",
       "    </tr>\n",
       "  </thead>\n",
       "  <tbody>\n",
       "    <tr>\n",
       "      <th>0</th>\n",
       "      <td>Casas</td>\n",
       "      <td>spazio mont royal</td>\n",
       "      <td>núcleo residencial silvio vilari</td>\n",
       "      <td>rua vivaldo lanzoni</td>\n",
       "      <td>Padrão</td>\n",
       "      <td>237.0</td>\n",
       "      <td>250.0</td>\n",
       "      <td>4.0</td>\n",
       "      <td>2.0</td>\n",
       "      <td>2.0</td>\n",
       "      <td>6.0</td>\n",
       "      <td>585000.0</td>\n",
       "      <td>47.81</td>\n",
       "    </tr>\n",
       "    <tr>\n",
       "      <th>1</th>\n",
       "      <td>Casas</td>\n",
       "      <td>condomínio village damha iv</td>\n",
       "      <td>village damha iv</td>\n",
       "      <td>avenida brasilino damha</td>\n",
       "      <td>Padrão</td>\n",
       "      <td>180.0</td>\n",
       "      <td>299.0</td>\n",
       "      <td>3.0</td>\n",
       "      <td>4.0</td>\n",
       "      <td>2.0</td>\n",
       "      <td>6.0</td>\n",
       "      <td>1150000.0</td>\n",
       "      <td>47.81</td>\n",
       "    </tr>\n",
       "    <tr>\n",
       "      <th>2</th>\n",
       "      <td>Terreno</td>\n",
       "      <td>spazio mont royal</td>\n",
       "      <td>vila são josé</td>\n",
       "      <td>rua hipólito josé da costa</td>\n",
       "      <td>Others</td>\n",
       "      <td>147.8</td>\n",
       "      <td>125.0</td>\n",
       "      <td>2.0</td>\n",
       "      <td>2.0</td>\n",
       "      <td>1.0</td>\n",
       "      <td>3.0</td>\n",
       "      <td>150000.0</td>\n",
       "      <td>47.81</td>\n",
       "    </tr>\n",
       "    <tr>\n",
       "      <th>3</th>\n",
       "      <td>Apartamentos</td>\n",
       "      <td>edifício mont d'oro</td>\n",
       "      <td>residencial monsenhor romeu tortorelli</td>\n",
       "      <td>avenida joão stella</td>\n",
       "      <td>Padrão</td>\n",
       "      <td>147.8</td>\n",
       "      <td>42.0</td>\n",
       "      <td>2.0</td>\n",
       "      <td>1.0</td>\n",
       "      <td>1.0</td>\n",
       "      <td>2.0</td>\n",
       "      <td>180000.0</td>\n",
       "      <td>42.00</td>\n",
       "    </tr>\n",
       "    <tr>\n",
       "      <th>4</th>\n",
       "      <td>Casas</td>\n",
       "      <td>spazio mont royal</td>\n",
       "      <td>jardim tangará</td>\n",
       "      <td>rua ilton resitano</td>\n",
       "      <td>Padrão</td>\n",
       "      <td>111.0</td>\n",
       "      <td>125.0</td>\n",
       "      <td>2.0</td>\n",
       "      <td>2.0</td>\n",
       "      <td>2.0</td>\n",
       "      <td>3.0</td>\n",
       "      <td>290000.0</td>\n",
       "      <td>47.81</td>\n",
       "    </tr>\n",
       "  </tbody>\n",
       "</table>\n",
       "</div>"
      ],
      "text/plain": [
       "       Category                  Condominium  \\\n",
       "0         Casas            spazio mont royal   \n",
       "1         Casas  condomínio village damha iv   \n",
       "2       Terreno            spazio mont royal   \n",
       "3  Apartamentos          edifício mont d'oro   \n",
       "4         Casas            spazio mont royal   \n",
       "\n",
       "                                 District                 Street_name  \\\n",
       "0        núcleo residencial silvio vilari         rua vivaldo lanzoni   \n",
       "1                        village damha iv     avenida brasilino damha   \n",
       "2                           vila são josé  rua hipólito josé da costa   \n",
       "3  residencial monsenhor romeu tortorelli         avenida joão stella   \n",
       "4                          jardim tangará          rua ilton resitano   \n",
       "\n",
       "  Subcategory  Built_up_area  Total_area  Bedroom  Bathroom  Garages  \\\n",
       "0      Padrão          237.0       250.0      4.0       2.0      2.0   \n",
       "1      Padrão          180.0       299.0      3.0       4.0      2.0   \n",
       "2      Others          147.8       125.0      2.0       2.0      1.0   \n",
       "3      Padrão          147.8        42.0      2.0       1.0      1.0   \n",
       "4      Padrão          111.0       125.0      2.0       2.0      2.0   \n",
       "\n",
       "   totalRooms  Sales_value  prop_char_95  \n",
       "0         6.0     585000.0         47.81  \n",
       "1         6.0    1150000.0         47.81  \n",
       "2         3.0     150000.0         47.81  \n",
       "3         2.0     180000.0         42.00  \n",
       "4         3.0     290000.0         47.81  "
      ]
     },
     "execution_count": 42,
     "metadata": {},
     "output_type": "execute_result"
    }
   ],
   "source": [
    "df.head(5)"
   ]
  },
  {
   "cell_type": "code",
   "execution_count": 43,
   "id": "757acb7c",
   "metadata": {},
   "outputs": [
    {
     "data": {
      "text/plain": [
       "(6548, 13)"
      ]
     },
     "execution_count": 43,
     "metadata": {},
     "output_type": "execute_result"
    }
   ],
   "source": [
    "df.shape"
   ]
  },
  {
   "cell_type": "code",
   "execution_count": 44,
   "id": "fab88101",
   "metadata": {
    "scrolled": true
   },
   "outputs": [
    {
     "data": {
      "text/plain": [
       "(6548, 14)"
      ]
     },
     "execution_count": 44,
     "metadata": {},
     "output_type": "execute_result"
    }
   ],
   "source": [
    "# Introduce a new column called Address\n",
    "df['Address'] = df['District'] + df['Street_name']+df['Condominium']\n",
    "df.shape"
   ]
  },
  {
   "cell_type": "code",
   "execution_count": 45,
   "id": "b803baf2",
   "metadata": {
    "scrolled": true
   },
   "outputs": [
    {
     "data": {
      "text/plain": [
       "(6548, 11)"
      ]
     },
     "execution_count": 45,
     "metadata": {},
     "output_type": "execute_result"
    }
   ],
   "source": [
    "# Drop the three columns\n",
    "df=df.drop(columns=['District', 'Street_name', 'Condominium'])\n",
    "df.shape"
   ]
  },
  {
   "cell_type": "code",
   "execution_count": 46,
   "id": "134f975c",
   "metadata": {},
   "outputs": [],
   "source": [
    "df.to_csv('sale_saocarlos_preprocessed.csv', index=False)"
   ]
  },
  {
   "cell_type": "code",
   "execution_count": 47,
   "id": "b196330f",
   "metadata": {
    "scrolled": true
   },
   "outputs": [
    {
     "data": {
      "text/html": [
       "<div>\n",
       "<style scoped>\n",
       "    .dataframe tbody tr th:only-of-type {\n",
       "        vertical-align: middle;\n",
       "    }\n",
       "\n",
       "    .dataframe tbody tr th {\n",
       "        vertical-align: top;\n",
       "    }\n",
       "\n",
       "    .dataframe thead th {\n",
       "        text-align: right;\n",
       "    }\n",
       "</style>\n",
       "<table border=\"1\" class=\"dataframe\">\n",
       "  <thead>\n",
       "    <tr style=\"text-align: right;\">\n",
       "      <th></th>\n",
       "      <th>Category</th>\n",
       "      <th>Subcategory</th>\n",
       "      <th>Built_up_area</th>\n",
       "      <th>Total_area</th>\n",
       "      <th>Bedroom</th>\n",
       "      <th>Bathroom</th>\n",
       "      <th>Garages</th>\n",
       "      <th>totalRooms</th>\n",
       "      <th>Sales_value</th>\n",
       "      <th>prop_char_95</th>\n",
       "      <th>Address</th>\n",
       "    </tr>\n",
       "  </thead>\n",
       "  <tbody>\n",
       "    <tr>\n",
       "      <th>0</th>\n",
       "      <td>Casas</td>\n",
       "      <td>Padrão</td>\n",
       "      <td>237.0</td>\n",
       "      <td>250.0</td>\n",
       "      <td>4.0</td>\n",
       "      <td>2.0</td>\n",
       "      <td>2.0</td>\n",
       "      <td>6.0</td>\n",
       "      <td>585000.0</td>\n",
       "      <td>47.81</td>\n",
       "      <td>núcleo residencial silvio vilarirua vivaldo la...</td>\n",
       "    </tr>\n",
       "    <tr>\n",
       "      <th>1</th>\n",
       "      <td>Casas</td>\n",
       "      <td>Padrão</td>\n",
       "      <td>180.0</td>\n",
       "      <td>299.0</td>\n",
       "      <td>3.0</td>\n",
       "      <td>4.0</td>\n",
       "      <td>2.0</td>\n",
       "      <td>6.0</td>\n",
       "      <td>1150000.0</td>\n",
       "      <td>47.81</td>\n",
       "      <td>village damha ivavenida brasilino damhacondomí...</td>\n",
       "    </tr>\n",
       "    <tr>\n",
       "      <th>2</th>\n",
       "      <td>Terreno</td>\n",
       "      <td>Others</td>\n",
       "      <td>147.8</td>\n",
       "      <td>125.0</td>\n",
       "      <td>2.0</td>\n",
       "      <td>2.0</td>\n",
       "      <td>1.0</td>\n",
       "      <td>3.0</td>\n",
       "      <td>150000.0</td>\n",
       "      <td>47.81</td>\n",
       "      <td>vila são josérua hipólito josé da costaspazio ...</td>\n",
       "    </tr>\n",
       "    <tr>\n",
       "      <th>3</th>\n",
       "      <td>Apartamentos</td>\n",
       "      <td>Padrão</td>\n",
       "      <td>147.8</td>\n",
       "      <td>42.0</td>\n",
       "      <td>2.0</td>\n",
       "      <td>1.0</td>\n",
       "      <td>1.0</td>\n",
       "      <td>2.0</td>\n",
       "      <td>180000.0</td>\n",
       "      <td>42.00</td>\n",
       "      <td>residencial monsenhor romeu tortorelliavenida ...</td>\n",
       "    </tr>\n",
       "    <tr>\n",
       "      <th>4</th>\n",
       "      <td>Casas</td>\n",
       "      <td>Padrão</td>\n",
       "      <td>111.0</td>\n",
       "      <td>125.0</td>\n",
       "      <td>2.0</td>\n",
       "      <td>2.0</td>\n",
       "      <td>2.0</td>\n",
       "      <td>3.0</td>\n",
       "      <td>290000.0</td>\n",
       "      <td>47.81</td>\n",
       "      <td>jardim tangarárua ilton resitanospazio mont royal</td>\n",
       "    </tr>\n",
       "  </tbody>\n",
       "</table>\n",
       "</div>"
      ],
      "text/plain": [
       "       Category Subcategory  Built_up_area  Total_area  Bedroom  Bathroom  \\\n",
       "0         Casas      Padrão          237.0       250.0      4.0       2.0   \n",
       "1         Casas      Padrão          180.0       299.0      3.0       4.0   \n",
       "2       Terreno      Others          147.8       125.0      2.0       2.0   \n",
       "3  Apartamentos      Padrão          147.8        42.0      2.0       1.0   \n",
       "4         Casas      Padrão          111.0       125.0      2.0       2.0   \n",
       "\n",
       "   Garages  totalRooms  Sales_value  prop_char_95  \\\n",
       "0      2.0         6.0     585000.0         47.81   \n",
       "1      2.0         6.0    1150000.0         47.81   \n",
       "2      1.0         3.0     150000.0         47.81   \n",
       "3      1.0         2.0     180000.0         42.00   \n",
       "4      2.0         3.0     290000.0         47.81   \n",
       "\n",
       "                                             Address  \n",
       "0  núcleo residencial silvio vilarirua vivaldo la...  \n",
       "1  village damha ivavenida brasilino damhacondomí...  \n",
       "2  vila são josérua hipólito josé da costaspazio ...  \n",
       "3  residencial monsenhor romeu tortorelliavenida ...  \n",
       "4  jardim tangarárua ilton resitanospazio mont royal  "
      ]
     },
     "execution_count": 47,
     "metadata": {},
     "output_type": "execute_result"
    }
   ],
   "source": [
    "df.head(5)"
   ]
  },
  {
   "cell_type": "markdown",
   "id": "ca6d9062",
   "metadata": {},
   "source": [
    "### Create the train_test_split"
   ]
  },
  {
   "cell_type": "code",
   "execution_count": 48,
   "id": "7fa05f0b",
   "metadata": {},
   "outputs": [],
   "source": [
    "X=df.drop(columns=['Sales_value'])\n",
    "y=df[['Sales_value']]"
   ]
  },
  {
   "cell_type": "code",
   "execution_count": 49,
   "id": "48c3674f",
   "metadata": {
    "scrolled": false
   },
   "outputs": [
    {
     "name": "stdout",
     "output_type": "stream",
     "text": [
      "Numerical Columns: ['Built_up_area', 'Total_area', 'Bedroom', 'Bathroom', 'Garages', 'totalRooms', 'prop_char_95']\n",
      "Categorical Columns: ['Category', 'Subcategory', 'Address']\n"
     ]
    }
   ],
   "source": [
    "num_columns = X.select_dtypes(include=['float']).columns.tolist()\n",
    "\n",
    "# Get a list of column names with object (categorical) data types\n",
    "cat_columns = X.select_dtypes(include=['object']).columns.tolist()\n",
    "\n",
    "# Now you have lists of numerical and categorical column names\n",
    "print(\"Numerical Columns:\", num_columns)\n",
    "print(\"Categorical Columns:\", cat_columns)"
   ]
  },
  {
   "cell_type": "code",
   "execution_count": 50,
   "id": "174e49e4",
   "metadata": {},
   "outputs": [],
   "source": [
    "from sklearn.model_selection import train_test_split\n",
    "\n",
    "X_train,X_test,y_train,y_test = train_test_split(X,y,test_size=0.25,random_state=42)"
   ]
  },
  {
   "cell_type": "markdown",
   "id": "0855b0e5",
   "metadata": {},
   "source": [
    "### Create the column transformer"
   ]
  },
  {
   "cell_type": "code",
   "execution_count": 51,
   "id": "db700a37",
   "metadata": {
    "scrolled": false
   },
   "outputs": [],
   "source": [
    "import xgboost as xgb\n",
    "from sklearn.pipeline import Pipeline\n",
    "from sklearn.feature_selection import SelectFromModel\n",
    "from sklearn.preprocessing import StandardScaler, OneHotEncoder\n",
    "from sklearn.compose import ColumnTransformer\n",
    "\n",
    "# Define feature selection method\n",
    "feature_selector = SelectFromModel(xgb.XGBRegressor(), max_features=100)  \n",
    "\n",
    "# Define preprocessing steps\n",
    "# You will define which columns to scale and one-hot encode later in the ColumnTransformer\n",
    "transformer = ColumnTransformer(\n",
    "    transformers=[\n",
    "        ('num', StandardScaler(), num_columns),  # num_columns should be a list of numerical column names\n",
    "        ('cat', OneHotEncoder(handle_unknown='ignore'), cat_columns)   # cat_columns should be a list of categorical column names\n",
    "    ])\n",
    "\n",
    "# Create a combined preprocessing and feature selection pipeline\n",
    "combined_pipeline = Pipeline([\n",
    "    ('preprocessing', transformer),\n",
    "    ('feature_selection', feature_selector)])"
   ]
  },
  {
   "cell_type": "code",
   "execution_count": 52,
   "id": "624e96ef",
   "metadata": {
    "scrolled": true
   },
   "outputs": [],
   "source": [
    "# Apply the transformation to the data\n",
    "X_train_tran = transformer.fit_transform(X_train)\n",
    "X_test_tran = transformer.transform(X_test)"
   ]
  },
  {
   "cell_type": "code",
   "execution_count": 53,
   "id": "35abb483",
   "metadata": {
    "scrolled": true
   },
   "outputs": [
    {
     "data": {
      "text/plain": [
       "<4911x1766 sparse matrix of type '<class 'numpy.float64'>'\n",
       "\twith 49110 stored elements in Compressed Sparse Row format>"
      ]
     },
     "execution_count": 53,
     "metadata": {},
     "output_type": "execute_result"
    }
   ],
   "source": [
    "X_train_tran"
   ]
  },
  {
   "cell_type": "code",
   "execution_count": 54,
   "id": "96dd7fd8",
   "metadata": {},
   "outputs": [],
   "source": [
    "# Note X_train_tran, X_test_tran are sparse matrices and so we create the dataframe\n",
    "column_names = transformer.get_feature_names_out()\n",
    "X_train_tran_df = pd.DataFrame.sparse.from_spmatrix(X_train_tran, columns=column_names)\n",
    "X_test_tran_df = pd.DataFrame.sparse.from_spmatrix(X_test_tran, columns=column_names)"
   ]
  },
  {
   "cell_type": "code",
   "execution_count": 55,
   "id": "d93ea6c2",
   "metadata": {},
   "outputs": [
    {
     "data": {
      "text/plain": [
       "1766"
      ]
     },
     "execution_count": 55,
     "metadata": {},
     "output_type": "execute_result"
    }
   ],
   "source": [
    "len(column_names)"
   ]
  },
  {
   "cell_type": "code",
   "execution_count": 56,
   "id": "cf45e2ed",
   "metadata": {},
   "outputs": [],
   "source": [
    "# Fit and transform your data with the combined pipeline\n",
    "preprocessed_data = combined_pipeline.fit_transform(X_train, y_train)"
   ]
  },
  {
   "cell_type": "markdown",
   "id": "8e881a54",
   "metadata": {},
   "source": [
    "### Save the pipeline as a preprocessor"
   ]
  },
  {
   "cell_type": "code",
   "execution_count": 57,
   "id": "ea0d1734",
   "metadata": {
    "scrolled": true
   },
   "outputs": [
    {
     "data": {
      "text/plain": [
       "['combined_pipeline.pkl']"
      ]
     },
     "execution_count": 57,
     "metadata": {},
     "output_type": "execute_result"
    }
   ],
   "source": [
    "import joblib\n",
    "\n",
    "# Save the combined_pipeline in a pickle file\n",
    "joblib.dump(combined_pipeline, 'combined_pipeline.pkl')"
   ]
  },
  {
   "cell_type": "code",
   "execution_count": 58,
   "id": "37899b7a",
   "metadata": {
    "scrolled": false
   },
   "outputs": [],
   "source": [
    "importance_scores = combined_pipeline.named_steps['feature_selection'].estimator_.feature_importances_\n",
    "\n",
    "# Create a list of feature names to associate with the importances \n",
    "feature_names =combined_pipeline.get_feature_names_out()\n",
    "\n",
    "# Sort the feature importances and feature names together\n",
    "sorted_importances, sorted_feature_names = zip(*sorted(zip(importance_scores, feature_names), reverse=True))"
   ]
  },
  {
   "cell_type": "code",
   "execution_count": 59,
   "id": "ccd34652",
   "metadata": {
    "scrolled": true
   },
   "outputs": [
    {
     "data": {
      "text/plain": [
       "100"
      ]
     },
     "execution_count": 59,
     "metadata": {},
     "output_type": "execute_result"
    }
   ],
   "source": [
    "len(feature_names)"
   ]
  },
  {
   "cell_type": "code",
   "execution_count": 60,
   "id": "4134299e",
   "metadata": {
    "scrolled": true
   },
   "outputs": [
    {
     "data": {
      "image/png": "[encoded data removed]",
      "text/plain": [
       "<Figure size 720x432 with 1 Axes>"
      ]
     },
     "metadata": {
      "needs_background": "light"
     },
     "output_type": "display_data"
    }
   ],
   "source": [
    "# Select the top 5 features\n",
    "top_importances = sorted_importances[:5]\n",
    "top_feature_names = sorted_feature_names[:5]\n",
    "\n",
    "# Create a bar plot to visualize the top feature importances\n",
    "plt.figure(figsize=(10, 6))\n",
    "plt.barh(range(len(top_importances)), top_importances, tick_label=top_feature_names)\n",
    "plt.xlabel('Feature Importance')\n",
    "plt.ylabel('Feature Name')\n",
    "plt.title('Top 5 Feature Importances')\n",
    "plt.show()"
   ]
  },
  {
   "cell_type": "code",
   "execution_count": 61,
   "id": "f3ad6161",
   "metadata": {
    "scrolled": false
   },
   "outputs": [],
   "source": [
    "selected_feature_indices = combined_pipeline.named_steps['feature_selection'].get_support(indices=True)\n",
    "\n",
    "# Select only the top 100 features from X_train_tran\n",
    "X_train_scaled = X_train_tran[:, selected_feature_indices]\n",
    "\n",
    "X_test_scaled= X_test_tran[:, selected_feature_indices]"
   ]
  },
  {
   "cell_type": "code",
   "execution_count": 62,
   "id": "11d6797e",
   "metadata": {
    "scrolled": false
   },
   "outputs": [],
   "source": [
    "X_train_scaled_df = pd.DataFrame.sparse.from_spmatrix(X_train_scaled, columns=feature_names)\n",
    "X_test_scaled_df = pd.DataFrame.sparse.from_spmatrix(X_test_scaled, columns=feature_names)"
   ]
  },
  {
   "cell_type": "code",
   "execution_count": 63,
   "id": "19aecc81",
   "metadata": {
    "scrolled": true
   },
   "outputs": [
    {
     "data": {
      "text/plain": [
       "((4911, 100), (1637, 100))"
      ]
     },
     "execution_count": 63,
     "metadata": {},
     "output_type": "execute_result"
    }
   ],
   "source": [
    "X_train_scaled.shape, X_test_scaled.shape"
   ]
  },
  {
   "cell_type": "code",
   "execution_count": 64,
   "id": "d62b338c",
   "metadata": {
    "scrolled": false
   },
   "outputs": [
    {
     "data": {
      "text/html": [
       "<div>\n",
       "<style scoped>\n",
       "    .dataframe tbody tr th:only-of-type {\n",
       "        vertical-align: middle;\n",
       "    }\n",
       "\n",
       "    .dataframe tbody tr th {\n",
       "        vertical-align: top;\n",
       "    }\n",
       "\n",
       "    .dataframe thead th {\n",
       "        text-align: right;\n",
       "    }\n",
       "</style>\n",
       "<table border=\"1\" class=\"dataframe\">\n",
       "  <thead>\n",
       "    <tr style=\"text-align: right;\">\n",
       "      <th></th>\n",
       "      <th>num__Built_up_area</th>\n",
       "      <th>num__Total_area</th>\n",
       "      <th>num__Bedroom</th>\n",
       "      <th>num__Bathroom</th>\n",
       "      <th>num__Garages</th>\n",
       "      <th>num__totalRooms</th>\n",
       "      <th>num__prop_char_95</th>\n",
       "      <th>cat__Category_Apartamentos</th>\n",
       "      <th>cat__Category_Casas</th>\n",
       "      <th>cat__Category_Comercial</th>\n",
       "      <th>...</th>\n",
       "      <th>cat__Address_vila boa vistarua luiz carlos de arruda mendesspazio mont royal</th>\n",
       "      <th>cat__Address_vila boa vistarua pedro josé netospazio mont royal</th>\n",
       "      <th>cat__Address_vila brasíliarua francisco cassiano lopesspazio mont royal</th>\n",
       "      <th>cat__Address_vila celinarua rotary clubspazio mont royal</th>\n",
       "      <th>cat__Address_vila fariarua treze de maiospazio mont royal</th>\n",
       "      <th>cat__Address_vila lutfallarua rocha pombospazio mont royal</th>\n",
       "      <th>cat__Address_vila marigorua elisa lopes de meloedifício residencial le petit</th>\n",
       "      <th>cat__Address_vila monteirorua dona alexandrinaspazio mont royal</th>\n",
       "      <th>cat__Address_vila monteirorua são joaquimspazio mont royal</th>\n",
       "      <th>cat__Address_vila neryav. capitão luiz brandãospazio mont royal</th>\n",
       "    </tr>\n",
       "  </thead>\n",
       "  <tbody>\n",
       "    <tr>\n",
       "      <th>0</th>\n",
       "      <td>-0.084103</td>\n",
       "      <td>-0.834131</td>\n",
       "      <td>0.903914</td>\n",
       "      <td>1.257532</td>\n",
       "      <td>-1.351803</td>\n",
       "      <td>0.802916</td>\n",
       "      <td>1.079849</td>\n",
       "      <td>1.0</td>\n",
       "      <td>0.0</td>\n",
       "      <td>0.0</td>\n",
       "      <td>...</td>\n",
       "      <td>0.0</td>\n",
       "      <td>0.0</td>\n",
       "      <td>0.0</td>\n",
       "      <td>0.0</td>\n",
       "      <td>0.0</td>\n",
       "      <td>0.0</td>\n",
       "      <td>0.0</td>\n",
       "      <td>0.0</td>\n",
       "      <td>0.0</td>\n",
       "      <td>0.0</td>\n",
       "    </tr>\n",
       "    <tr>\n",
       "      <th>1</th>\n",
       "      <td>-0.084103</td>\n",
       "      <td>-0.242729</td>\n",
       "      <td>-0.421197</td>\n",
       "      <td>1.257532</td>\n",
       "      <td>-0.401516</td>\n",
       "      <td>0.000327</td>\n",
       "      <td>2.428956</td>\n",
       "      <td>0.0</td>\n",
       "      <td>0.0</td>\n",
       "      <td>1.0</td>\n",
       "      <td>...</td>\n",
       "      <td>0.0</td>\n",
       "      <td>0.0</td>\n",
       "      <td>0.0</td>\n",
       "      <td>0.0</td>\n",
       "      <td>0.0</td>\n",
       "      <td>0.0</td>\n",
       "      <td>0.0</td>\n",
       "      <td>0.0</td>\n",
       "      <td>0.0</td>\n",
       "      <td>0.0</td>\n",
       "    </tr>\n",
       "    <tr>\n",
       "      <th>2</th>\n",
       "      <td>-0.084103</td>\n",
       "      <td>-0.390579</td>\n",
       "      <td>0.903914</td>\n",
       "      <td>0.136301</td>\n",
       "      <td>-1.351803</td>\n",
       "      <td>0.802916</td>\n",
       "      <td>2.428956</td>\n",
       "      <td>1.0</td>\n",
       "      <td>0.0</td>\n",
       "      <td>0.0</td>\n",
       "      <td>...</td>\n",
       "      <td>0.0</td>\n",
       "      <td>0.0</td>\n",
       "      <td>0.0</td>\n",
       "      <td>0.0</td>\n",
       "      <td>0.0</td>\n",
       "      <td>0.0</td>\n",
       "      <td>0.0</td>\n",
       "      <td>0.0</td>\n",
       "      <td>0.0</td>\n",
       "      <td>0.0</td>\n",
       "    </tr>\n",
       "    <tr>\n",
       "      <th>3</th>\n",
       "      <td>-0.084103</td>\n",
       "      <td>-0.242729</td>\n",
       "      <td>-0.421197</td>\n",
       "      <td>-0.984930</td>\n",
       "      <td>-0.401516</td>\n",
       "      <td>-0.802263</td>\n",
       "      <td>0.362124</td>\n",
       "      <td>1.0</td>\n",
       "      <td>0.0</td>\n",
       "      <td>0.0</td>\n",
       "      <td>...</td>\n",
       "      <td>0.0</td>\n",
       "      <td>0.0</td>\n",
       "      <td>0.0</td>\n",
       "      <td>0.0</td>\n",
       "      <td>0.0</td>\n",
       "      <td>0.0</td>\n",
       "      <td>0.0</td>\n",
       "      <td>0.0</td>\n",
       "      <td>0.0</td>\n",
       "      <td>0.0</td>\n",
       "    </tr>\n",
       "    <tr>\n",
       "      <th>4</th>\n",
       "      <td>0.504451</td>\n",
       "      <td>-0.982159</td>\n",
       "      <td>0.903914</td>\n",
       "      <td>0.136301</td>\n",
       "      <td>2.449344</td>\n",
       "      <td>0.000327</td>\n",
       "      <td>0.081960</td>\n",
       "      <td>0.0</td>\n",
       "      <td>1.0</td>\n",
       "      <td>0.0</td>\n",
       "      <td>...</td>\n",
       "      <td>0.0</td>\n",
       "      <td>0.0</td>\n",
       "      <td>0.0</td>\n",
       "      <td>0.0</td>\n",
       "      <td>0.0</td>\n",
       "      <td>0.0</td>\n",
       "      <td>0.0</td>\n",
       "      <td>0.0</td>\n",
       "      <td>0.0</td>\n",
       "      <td>0.0</td>\n",
       "    </tr>\n",
       "  </tbody>\n",
       "</table>\n",
       "<p>5 rows × 100 columns</p>\n",
       "</div>"
      ],
      "text/plain": [
       "   num__Built_up_area  num__Total_area  num__Bedroom  num__Bathroom  \\\n",
       "0           -0.084103        -0.834131      0.903914       1.257532   \n",
       "1           -0.084103        -0.242729     -0.421197       1.257532   \n",
       "2           -0.084103        -0.390579      0.903914       0.136301   \n",
       "3           -0.084103        -0.242729     -0.421197      -0.984930   \n",
       "4            0.504451        -0.982159      0.903914       0.136301   \n",
       "\n",
       "   num__Garages  num__totalRooms  num__prop_char_95  \\\n",
       "0     -1.351803         0.802916           1.079849   \n",
       "1     -0.401516         0.000327           2.428956   \n",
       "2     -1.351803         0.802916           2.428956   \n",
       "3     -0.401516        -0.802263           0.362124   \n",
       "4      2.449344         0.000327           0.081960   \n",
       "\n",
       "   cat__Category_Apartamentos  cat__Category_Casas  cat__Category_Comercial  \\\n",
       "0                         1.0                  0.0                      0.0   \n",
       "1                         0.0                  0.0                      1.0   \n",
       "2                         1.0                  0.0                      0.0   \n",
       "3                         1.0                  0.0                      0.0   \n",
       "4                         0.0                  1.0                      0.0   \n",
       "\n",
       "   ...  \\\n",
       "0  ...   \n",
       "1  ...   \n",
       "2  ...   \n",
       "3  ...   \n",
       "4  ...   \n",
       "\n",
       "   cat__Address_vila boa vistarua luiz carlos de arruda mendesspazio mont royal  \\\n",
       "0                                                0.0                              \n",
       "1                                                0.0                              \n",
       "2                                                0.0                              \n",
       "3                                                0.0                              \n",
       "4                                                0.0                              \n",
       "\n",
       "   cat__Address_vila boa vistarua pedro josé netospazio mont royal  \\\n",
       "0                                                0.0                 \n",
       "1                                                0.0                 \n",
       "2                                                0.0                 \n",
       "3                                                0.0                 \n",
       "4                                                0.0                 \n",
       "\n",
       "   cat__Address_vila brasíliarua francisco cassiano lopesspazio mont royal  \\\n",
       "0                                                0.0                         \n",
       "1                                                0.0                         \n",
       "2                                                0.0                         \n",
       "3                                                0.0                         \n",
       "4                                                0.0                         \n",
       "\n",
       "   cat__Address_vila celinarua rotary clubspazio mont royal  \\\n",
       "0                                                0.0          \n",
       "1                                                0.0          \n",
       "2                                                0.0          \n",
       "3                                                0.0          \n",
       "4                                                0.0          \n",
       "\n",
       "   cat__Address_vila fariarua treze de maiospazio mont royal  \\\n",
       "0                                                0.0           \n",
       "1                                                0.0           \n",
       "2                                                0.0           \n",
       "3                                                0.0           \n",
       "4                                                0.0           \n",
       "\n",
       "   cat__Address_vila lutfallarua rocha pombospazio mont royal  \\\n",
       "0                                                0.0            \n",
       "1                                                0.0            \n",
       "2                                                0.0            \n",
       "3                                                0.0            \n",
       "4                                                0.0            \n",
       "\n",
       "   cat__Address_vila marigorua elisa lopes de meloedifício residencial le petit  \\\n",
       "0                                                0.0                              \n",
       "1                                                0.0                              \n",
       "2                                                0.0                              \n",
       "3                                                0.0                              \n",
       "4                                                0.0                              \n",
       "\n",
       "   cat__Address_vila monteirorua dona alexandrinaspazio mont royal  \\\n",
       "0                                                0.0                 \n",
       "1                                                0.0                 \n",
       "2                                                0.0                 \n",
       "3                                                0.0                 \n",
       "4                                                0.0                 \n",
       "\n",
       "   cat__Address_vila monteirorua são joaquimspazio mont royal  \\\n",
       "0                                                0.0            \n",
       "1                                                0.0            \n",
       "2                                                0.0            \n",
       "3                                                0.0            \n",
       "4                                                0.0            \n",
       "\n",
       "   cat__Address_vila neryav. capitão luiz brandãospazio mont royal  \n",
       "0                                                0.0                \n",
       "1                                                0.0                \n",
       "2                                                0.0                \n",
       "3                                                0.0                \n",
       "4                                                0.0                \n",
       "\n",
       "[5 rows x 100 columns]"
      ]
     },
     "execution_count": 64,
     "metadata": {},
     "output_type": "execute_result"
    }
   ],
   "source": [
    "X_train_scaled_df.head()"
   ]
  },
  {
   "cell_type": "markdown",
   "id": "a05c27d1",
   "metadata": {},
   "source": [
    "### Multiple Regression model and Model Development"
   ]
  },
  {
   "cell_type": "code",
   "execution_count": 65,
   "id": "a5292bdf",
   "metadata": {},
   "outputs": [],
   "source": [
    "# Import Classifiers\n",
    "from sklearn.ensemble import RandomForestRegressor\n",
    "from sklearn.linear_model import LinearRegression,Lasso,Ridge,ElasticNet\n",
    "from sklearn.tree import DecisionTreeRegressor\n",
    "from sklearn.ensemble import AdaBoostRegressor\n",
    "from sklearn.svm import SVR\n",
    "\n",
    "#import the metrics\n",
    "from sklearn.metrics import mean_squared_error, mean_absolute_error, r2_score"
   ]
  },
  {
   "cell_type": "code",
   "execution_count": 66,
   "id": "953ecafe",
   "metadata": {
    "scrolled": true
   },
   "outputs": [],
   "source": [
    "models={'LinearRegression': LinearRegression(),\n",
    "        'LassoRegressor':Lasso(max_iter=10000),\n",
    "        'RidgeRegressor':Ridge(max_iter=10000),\n",
    "        'ADABoost': AdaBoostRegressor(),\n",
    "        'XGBoost': xgb.XGBRegressor(),\n",
    "        'DTR':DecisionTreeRegressor(),\n",
    "        'SVR': SVR(),\n",
    "        'RFR': RandomForestRegressor()}"
   ]
  },
  {
   "cell_type": "code",
   "execution_count": 67,
   "id": "f74a1a24",
   "metadata": {
    "scrolled": false
   },
   "outputs": [
    {
     "name": "stdout",
     "output_type": "stream",
     "text": [
      "The model with the best R2 score is: XGBoost\n",
      "R2 score: 0.7619234858695371\n"
     ]
    }
   ],
   "source": [
    "# Train multiple models\n",
    "model_list=[]\n",
    "r2_list=[]\n",
    "\n",
    "for i in range(len(list(models))):\n",
    "    model=list(models.values())[i]\n",
    "    model.fit(X_train_scaled,y_train)\n",
    "\n",
    "    #Make Predictions\n",
    "    y_pred=model.predict(X_test_scaled)\n",
    "    r2 = model.score(X_test_scaled, y_test)\n",
    "    \n",
    "    \n",
    "    model_list.append(list(models.keys())[i])\n",
    "    r2_list.append(r2)\n",
    "    \n",
    "# Find the index of the model with the best R2 score\n",
    "best_index = r2_list.index(max(r2_list))\n",
    "\n",
    "# Print the model with the best accuracy\n",
    "print(\"The model with the best R2 score is:\", model_list[best_index])\n",
    "print(\"R2 score:\", r2_list[best_index])    "
   ]
  },
  {
   "cell_type": "markdown",
   "id": "12c34e8b",
   "metadata": {},
   "source": [
    "### Let us check how does XGBoost works on GridSearchCV"
   ]
  },
  {
   "cell_type": "code",
   "execution_count": 68,
   "id": "8b0b8039",
   "metadata": {
    "scrolled": true
   },
   "outputs": [
    {
     "name": "stdout",
     "output_type": "stream",
     "text": [
      "Best estimator: XGBRegressor(base_score=0.5, booster='gbtree', callbacks=None,\n",
      "             colsample_bylevel=1, colsample_bynode=1, colsample_bytree=1,\n",
      "             early_stopping_rounds=None, enable_categorical=False,\n",
      "             eval_metric=None, gamma=0, gpu_id=-1, grow_policy='depthwise',\n",
      "             importance_type=None, interaction_constraints='',\n",
      "             learning_rate=0.1, max_bin=256, max_cat_to_onehot=4,\n",
      "             max_delta_step=0, max_depth=7, max_leaves=0, min_child_weight=1,\n",
      "             missing=nan, monotone_constraints='()', n_estimators=150, n_jobs=0,\n",
      "             num_parallel_tree=1, predictor='auto', random_state=0, reg_alpha=0,\n",
      "             reg_lambda=1, ...)\n",
      "Best R2 score: 0.7341015958423835\n"
     ]
    }
   ],
   "source": [
    "from sklearn.model_selection import GridSearchCV\n",
    "\n",
    "# Define the parameter grid for hyperparameter tuning\n",
    "\n",
    "param_grid = {'learning_rate': [0.1, 0.01, 0.001],\n",
    "              'max_depth': [3, 5, 7, 9],\n",
    "              'n_estimators' : [100, 150, 200]}\n",
    "\n",
    "\n",
    "# Create a Random Forest Regressor\n",
    "model = xgb.XGBRegressor()\n",
    "\n",
    "# Perform grid search to find the best hyperparameters\n",
    "grid_search = GridSearchCV(model, param_grid, cv=5, scoring='r2')\n",
    "grid_search.fit(X_train_scaled, y_train)\n",
    "\n",
    "# Get the best model with the optimal hyperparameters\n",
    "best_model = grid_search.best_estimator_\n",
    "\n",
    "# Print the best estimator and corresponding R2 score\n",
    "print(\"Best estimator:\", grid_search.best_estimator_)\n",
    "print(\"Best R2 score:\", grid_search.best_score_)"
   ]
  },
  {
   "cell_type": "code",
   "execution_count": 69,
   "id": "9cd687e9",
   "metadata": {
    "scrolled": true
   },
   "outputs": [],
   "source": [
    "xg=grid_search.best_estimator_\n",
    "\n",
    "y_pred=xg.predict(X_test_scaled)"
   ]
  },
  {
   "cell_type": "code",
   "execution_count": 70,
   "id": "a2ccab8a",
   "metadata": {
    "scrolled": true
   },
   "outputs": [
    {
     "name": "stdout",
     "output_type": "stream",
     "text": [
      "Mean absolute error: 112467.74\n",
      "Mean squared error: 35723592574.00\n",
      "Root mean squared error: 189006.86\n"
     ]
    }
   ],
   "source": [
    "#Calculate the mean squared error on the original scale\n",
    "mae = mean_absolute_error(y_test, y_pred)\n",
    "mse = mean_squared_error(y_test, y_pred)\n",
    "rmse = np.sqrt(mse)\n",
    "\n",
    "print(f'Mean absolute error: {mae:.2f}')\n",
    "print(f'Mean squared error: {mse:.2f}')\n",
    "print(f'Root mean squared error: {rmse:.2f}')"
   ]
  },
  {
   "cell_type": "code",
   "execution_count": 71,
   "id": "b23a33d3",
   "metadata": {
    "scrolled": false
   },
   "outputs": [
    {
     "name": "stdout",
     "output_type": "stream",
     "text": [
      "Train R2 Score :  0.8843671179751255\n",
      "Test R2 Score  :  0.7604490418820204\n"
     ]
    }
   ],
   "source": [
    "print(\"Train R2 Score : \", xg.score(X_train_scaled, y_train))\n",
    "print(\"Test R2 Score  : \", xg.score(X_test_scaled, y_test))"
   ]
  },
  {
   "cell_type": "code",
   "execution_count": 72,
   "id": "84d9b803",
   "metadata": {},
   "outputs": [],
   "source": [
    "def adjR2(a, b):\n",
    "    r2 = xg.score(a, b)\n",
    "    n = a.shape[0]\n",
    "    p = a.shape[1]\n",
    "    return 1-(1-r2)*(n-1)/(n-p-1)"
   ]
  },
  {
   "cell_type": "code",
   "execution_count": 73,
   "id": "c4d31c9e",
   "metadata": {},
   "outputs": [
    {
     "name": "stdout",
     "output_type": "stream",
     "text": [
      "Adjusted R2 Score :  0.8819631079538183\n"
     ]
    }
   ],
   "source": [
    "print(\"Adjusted R2 Score : \", adjR2(X_train_scaled, y_train))"
   ]
  },
  {
   "cell_type": "markdown",
   "id": "c5135971",
   "metadata": {},
   "source": [
    "### Save the model in a Pickle file"
   ]
  },
  {
   "cell_type": "code",
   "execution_count": 74,
   "id": "13370ee4",
   "metadata": {
    "scrolled": true
   },
   "outputs": [
    {
     "data": {
      "text/plain": [
       "['best_model.pkl']"
      ]
     },
     "execution_count": 74,
     "metadata": {},
     "output_type": "execute_result"
    }
   ],
   "source": [
    "# Best model is stored in 'xg' after GridSearchCV\n",
    "joblib.dump(xg, 'best_model.pkl')"
   ]
  },
  {
   "cell_type": "code",
   "execution_count": 75,
   "id": "554c2f26",
   "metadata": {
    "scrolled": true
   },
   "outputs": [
    {
     "data": {
      "image/png": "[encoded data removed]",
      "text/plain": [
       "<Figure size 432x288 with 1 Axes>"
      ]
     },
     "metadata": {
      "needs_background": "light"
     },
     "output_type": "display_data"
    }
   ],
   "source": [
    "# Feature importance in XG Boost\n",
    "feat_importances = pd.Series(xg.feature_importances_, index=feature_names)\n",
    "f=feat_importances.nlargest(7).sort_values(ascending=True)\n",
    "f.plot(kind='barh')\n",
    "plt.title('XGBoost Feature Importance top 7')\n",
    "plt.show()"
   ]
  },
  {
   "cell_type": "code",
   "execution_count": 76,
   "id": "4367f13e",
   "metadata": {
    "scrolled": true
   },
   "outputs": [
    {
     "data": {
      "image/png": "[encoded data removed]",
      "text/plain": [
       "<Figure size 432x288 with 1 Axes>"
      ]
     },
     "metadata": {
      "needs_background": "light"
     },
     "output_type": "display_data"
    }
   ],
   "source": [
    "plt.scatter(y_test, y_pred, c='red', label='Predicted')\n",
    "plt.scatter(y_test, y_test, c='blue', label='True')\n",
    "\n",
    "\n",
    "# Add labels and title\n",
    "plt.xlabel('True Values')\n",
    "plt.ylabel('Predicted Values')\n",
    "plt.title('Regression Scatter Plot')\n",
    "\n",
    "# Show the plot\n",
    "plt.legend()\n",
    "plt.show()"
   ]
  },
  {
   "cell_type": "code",
   "execution_count": 77,
   "id": "ecb13c7c",
   "metadata": {
    "scrolled": false
   },
   "outputs": [
    {
     "data": {
      "text/html": [
       "<div>\n",
       "<style scoped>\n",
       "    .dataframe tbody tr th:only-of-type {\n",
       "        vertical-align: middle;\n",
       "    }\n",
       "\n",
       "    .dataframe tbody tr th {\n",
       "        vertical-align: top;\n",
       "    }\n",
       "\n",
       "    .dataframe thead th {\n",
       "        text-align: right;\n",
       "    }\n",
       "</style>\n",
       "<table border=\"1\" class=\"dataframe\">\n",
       "  <thead>\n",
       "    <tr style=\"text-align: right;\">\n",
       "      <th></th>\n",
       "      <th>Actual_price</th>\n",
       "      <th>Pred_price</th>\n",
       "    </tr>\n",
       "  </thead>\n",
       "  <tbody>\n",
       "    <tr>\n",
       "      <th>2916</th>\n",
       "      <td>180000.0</td>\n",
       "      <td>202160.562500</td>\n",
       "    </tr>\n",
       "    <tr>\n",
       "      <th>3544</th>\n",
       "      <td>220000.0</td>\n",
       "      <td>176234.390625</td>\n",
       "    </tr>\n",
       "    <tr>\n",
       "      <th>4126</th>\n",
       "      <td>500000.0</td>\n",
       "      <td>687471.187500</td>\n",
       "    </tr>\n",
       "    <tr>\n",
       "      <th>239</th>\n",
       "      <td>290000.0</td>\n",
       "      <td>238472.062500</td>\n",
       "    </tr>\n",
       "    <tr>\n",
       "      <th>334</th>\n",
       "      <td>586500.0</td>\n",
       "      <td>455394.187500</td>\n",
       "    </tr>\n",
       "  </tbody>\n",
       "</table>\n",
       "</div>"
      ],
      "text/plain": [
       "      Actual_price     Pred_price\n",
       "2916      180000.0  202160.562500\n",
       "3544      220000.0  176234.390625\n",
       "4126      500000.0  687471.187500\n",
       "239       290000.0  238472.062500\n",
       "334       586500.0  455394.187500"
      ]
     },
     "execution_count": 77,
     "metadata": {},
     "output_type": "execute_result"
    }
   ],
   "source": [
    "# Create a dataframe for the Actual Price and the Prediction price\n",
    "df_preds = pd.DataFrame({'Actual_price': y_test.squeeze(), 'Pred_price': y_pred.squeeze()})\n",
    "df_preds.head()"
   ]
  },
  {
   "cell_type": "code",
   "execution_count": 78,
   "id": "341d70e3",
   "metadata": {
    "scrolled": false
   },
   "outputs": [
    {
     "data": {
      "image/png": "[encoded data removed]",
      "text/plain": [
       "<Figure size 432x288 with 1 Axes>"
      ]
     },
     "metadata": {
      "needs_background": "light"
     },
     "output_type": "display_data"
    }
   ],
   "source": [
    "# Create a KDE plot for y_actual\n",
    "sns.kdeplot('Actual_price', label='Actual', fill=True, data=df_preds)\n",
    "\n",
    "# Create a KDE plot for y_pred\n",
    "sns.kdeplot('Pred_price', label='Predicted', fill=True, data=df_preds)\n",
    "\n",
    "# Add labels and a legend\n",
    "plt.xlabel('Values')\n",
    "plt.ylabel('Density')\n",
    "plt.title('KDE Plot of Actual vs Predicted')\n",
    "plt.legend()\n",
    "\n",
    "# Display the plot\n",
    "plt.show()"
   ]
  },
  {
   "cell_type": "markdown",
   "id": "2f0e38b1",
   "metadata": {},
   "source": [
    "### Plot the learning curves"
   ]
  },
  {
   "cell_type": "code",
   "execution_count": 79,
   "id": "f70b47eb",
   "metadata": {
    "scrolled": false
   },
   "outputs": [],
   "source": [
    "from sklearn.model_selection import learning_curve\n",
    "\n",
    "\n",
    "train_sizes, train_scores, test_scores = learning_curve(estimator=xg, X=X_train_scaled, y=y_train,\n",
    "                                                  scoring = 'r2', cv=5, train_sizes=[100,1000,3928])"
   ]
  },
  {
   "cell_type": "code",
   "execution_count": 80,
   "id": "0d9c99e5",
   "metadata": {},
   "outputs": [],
   "source": [
    "train_mean = np.mean(train_scores, axis=1)\n",
    "test_mean = np.mean(test_scores, axis=1)"
   ]
  },
  {
   "cell_type": "code",
   "execution_count": 81,
   "id": "4fe38dd3",
   "metadata": {
    "scrolled": false
   },
   "outputs": [
    {
     "data": {
      "image/png": "[encoded data removed]",
      "text/plain": [
       "<Figure size 432x288 with 1 Axes>"
      ]
     },
     "metadata": {
      "needs_background": "light"
     },
     "output_type": "display_data"
    }
   ],
   "source": [
    "plt.plot(train_sizes, train_mean, color='blue', marker='o', markersize=5, label='Training Accuracy')\n",
    "plt.plot(train_sizes, test_mean, color='green', marker='+', markersize=5, label='Test Accuracy')\n",
    "plt.title('Learning Curve for XGBoost Regressor')\n",
    "plt.xlabel('Training Data Size')\n",
    "plt.ylabel('R2 score')\n",
    "plt.legend(loc='lower right')\n",
    "plt.show()"
   ]
  },
  {
   "cell_type": "markdown",
   "id": "bfce2b47",
   "metadata": {},
   "source": [
    "### So we have overfitting issues in the model."
   ]
  },
  {
   "cell_type": "code",
   "execution_count": null,
   "id": "c1a45ba3",
   "metadata": {},
   "outputs": [],
   "source": []
  }
 ],
 "metadata": {
  "kernelspec": {
   "display_name": "Python 3 (ipykernel)",
   "language": "python",
   "name": "python3"
  },
  "language_info": {
   "codemirror_mode": {
    "name": "ipython",
    "version": 3
   },
   "file_extension": ".py",
   "mimetype": "text/x-python",
   "name": "python",
   "nbconvert_exporter": "python",
   "pygments_lexer": "ipython3",
   "version": "3.9.12"
  }
 },
 "nbformat": 4,
 "nbformat_minor": 5
}
